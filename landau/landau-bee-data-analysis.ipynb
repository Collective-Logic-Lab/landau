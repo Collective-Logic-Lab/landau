{
 "cells": [
  {
   "cell_type": "code",
   "execution_count": null,
   "id": "7c93b51e",
   "metadata": {},
   "outputs": [],
   "source": [
    "# landau-bee-data-analysis.ipynb\n",
    "#\n",
    "# Bryan Daniels\n",
    "# 2021/9/3\n",
    "# 2023/4/10 renamed\n",
    "#\n",
    "# Analysis of Landau procedure applied to honeybee expression data.\n",
    "#\n",
    "# Combining code from compare-landau-and-gaussian.ipynb, test-landau.ipynb\n",
    "#"
   ]
  },
  {
   "cell_type": "code",
   "execution_count": 1,
   "id": "9b9ccc26",
   "metadata": {},
   "outputs": [],
   "source": [
    "import pandas as pd\n",
    "import numpy as np\n",
    "import matplotlib.pyplot as plt\n",
    "\n",
    "from landauAnalysis import landauAnalysis,principalComponents,gaussianMixtureAnalysis\n",
    "from landauAnalysis import LandauTransitionDistributionRelativeLogPDF\n",
    "from runFittingAnalysis import loadBeeData\n",
    "\n",
    "from toolbox import setDefaultParams,makePretty,load\n",
    "setDefaultParams()"
   ]
  },
  {
   "cell_type": "code",
   "execution_count": 2,
   "id": "efd91c42",
   "metadata": {},
   "outputs": [],
   "source": [
    "def bistablePlot(finalStates,vec,Jvals,Jvecs,c,d,nuMu,returnData=False,plotTheory=True,plotGaussian=True,\n",
    "                **histKwargs):\n",
    "    \n",
    "    # calculate projection along eigenvector\n",
    "    \n",
    "    if (len(vec) == 1) and (finalStates.shape[1] > 1):\n",
    "        # compute principal eigenvector manually if we're given a vec from a projected analysis\n",
    "        PCAvals,PCAvecs = principalComponents(finalStates)\n",
    "        projVec = PCAvecs[0]\n",
    "        \n",
    "        sampleMean = finalStates.mean()\n",
    "        x = np.dot(finalStates-sampleMean,projVec)\n",
    "        \n",
    "        meanFinalState = np.mean(x)\n",
    "    else:\n",
    "        projVec = vec\n",
    "        \n",
    "        sampleMean = finalStates.mean()\n",
    "        x = np.dot(finalStates-sampleMean,projVec)\n",
    "        \n",
    "        meanFinalState = sampleMean\n",
    "    \n",
    "    \n",
    "    # plot histogram of data\n",
    "    plt.hist(x,density=True,bins=30,**histKwargs)\n",
    "\n",
    "    if plotTheory:\n",
    "        # plot inferred relative log-likelihood\n",
    "        xRange = 1.5*(x.max() - x.min())\n",
    "        plotLandauTheory(vec,Jvals,Jvecs,c,d,nuMu,xRange=xRange)\n",
    "        \n",
    "    if plotGaussian:\n",
    "        # compare to Gaussian null model\n",
    "        xVals = np.linspace(-xRange/2.,xRange/2.,500)\n",
    "        distGaussian = [ np.exp(LandauTransitionDistributionRelativeLogPDF(\n",
    "                            meanFinalState + xVal*vec,   \n",
    "                            meanFinalState,\n",
    "                            Jvals,\n",
    "                            Jvecs,\n",
    "                            vec,\n",
    "                            1.,\n",
    "                            0.)) for xVal in xVals ]\n",
    "        distGaussian = distGaussian / (np.sum(distGaussian)*(np.diff(xVals)[0]))\n",
    "        plt.plot(xVals,distGaussian,lw=2,color='black',label='Gaussian mixture fit')\n",
    "\n",
    "    plt.xlabel('Gene expression\\nalong bistable dimension')\n",
    "    plt.ylabel('Probability')\n",
    "\n",
    "    if returnData:\n",
    "        return {'x': x,\n",
    "                'vec': vec,\n",
    "                'mu': mu,\n",
    "                'runIndex': runIndex,\n",
    "                'meanFinalState': meanFinalState,\n",
    "                }"
   ]
  },
  {
   "cell_type": "code",
   "execution_count": 3,
   "id": "4f493ba9",
   "metadata": {},
   "outputs": [],
   "source": [
    "# bistablePlot code modified from test-landau.ipynb\n",
    "def bistablePlot_fromDataDict(df,dataDict,runIndex,muIndex,returnData=False,offset=0,**kwargs):\n",
    "    \n",
    "    d = df\n",
    "    dd = dataDict\n",
    "    mu = d['mu'].unique()[muIndex]\n",
    "    landauData = dd[(runIndex,offset)][mu]['landauAnalysis']\n",
    "    \n",
    "    dSeries = d[(d['runIndex']==runIndex) & (d['mu']==mu)]\n",
    "\n",
    "    bistableIndex = int(dSeries['bistable index'].iloc[0])\n",
    "    vec = np.real_if_close( landauData['vecList'][bistableIndex] )\n",
    "\n",
    "    finalStates = dd[(runIndex,offset)][mu]['finalStates']\n",
    "    \n",
    "    Jvals = landauData['valList']\n",
    "    Jvecs = np.real_if_close( landauData['vecList'] )\n",
    "    cVal = landauData['cList'][bistableIndex]\n",
    "    dVal = landauData['dList'][bistableIndex]\n",
    "    nuMuVal = landauData['nuMuList'][bistableIndex]\n",
    "\n",
    "    data = bistablePlot(finalStates,vec,Jvals,Jvecs,cVal,dVal,nuMuVal,returnData=returnData,**kwargs)\n",
    "    \n",
    "    print(\"c = {}; d = {}\".format(cVal,dVal))\n",
    "    print(\"mu = {}; bic diff = {}\".format(mu,dSeries['bistable bic diff'].iloc[0]))\n",
    "    print(\"Landau transition identified = {}\".format(dSeries['landau transition identified'].iloc[0]))\n",
    "    \n",
    "    if returnData:\n",
    "        return data"
   ]
  },
  {
   "cell_type": "code",
   "execution_count": 4,
   "id": "f9d478f2",
   "metadata": {},
   "outputs": [],
   "source": [
    "def plotLandauTheory_fromDict(landauAnalysis,bistableIndex=0,**kwargs):\n",
    "    vec = landauAnalysis['vecList'][bistableIndex]\n",
    "    Jvals = landauAnalysis['valList']\n",
    "    Jvecs = landauAnalysis['vecList']\n",
    "    c = landauAnalysis['cList'][bistableIndex]\n",
    "    d = landauAnalysis['dList'][bistableIndex]\n",
    "    nuMu = landauAnalysis['nuMuList'][bistableIndex]\n",
    "    \n",
    "    plotLandauTheory(vec,Jvals,Jvecs,c,d,nuMu,**kwargs)"
   ]
  },
  {
   "cell_type": "code",
   "execution_count": 5,
   "id": "4f61f338",
   "metadata": {},
   "outputs": [],
   "source": [
    "def plotLandauTheory(vec,Jvals,Jvecs,c,d,nuMu,color='crimson',lw=5,zorder=10,xRange=20):\n",
    "    \"\"\"\n",
    "    (x = 0 corresponds to the mean value along the projected axis)\n",
    "    \"\"\"\n",
    "    xVals = np.linspace(-xRange/2.,xRange/2.,500)\n",
    "\n",
    "    dist = [ np.exp(LandauTransitionDistributionRelativeLogPDF(\n",
    "                        xVal*vec,   \n",
    "                        nuMu*vec,\n",
    "                        Jvals,\n",
    "                        Jvecs,\n",
    "                        vec,\n",
    "                        c,\n",
    "                        d)) for xVal in xVals ]\n",
    "    dist = dist / (np.sum(dist)*(np.diff(xVals)[0]))\n",
    "    plt.plot(xVals,dist,lw=lw,color=color,zorder=zorder,label='Landau fit')"
   ]
  },
  {
   "cell_type": "markdown",
   "id": "ad9afe63",
   "metadata": {},
   "source": [
    "# 1) bee data"
   ]
  },
  {
   "cell_type": "markdown",
   "id": "11216bef",
   "metadata": {},
   "source": [
    "## load data"
   ]
  },
  {
   "cell_type": "code",
   "execution_count": 6,
   "id": "b7d521ac",
   "metadata": {},
   "outputs": [
    {
     "name": "stderr",
     "output_type": "stream",
     "text": [
      "/Users/bdaniel6/opt/anaconda3/lib/python3.9/site-packages/openpyxl/worksheet/_read_only.py:79: UserWarning: Unknown extension is not supported and will be removed\n",
      "  for idx, row in parser.parse():\n"
     ]
    }
   ],
   "source": [
    "beeData = loadBeeData()"
   ]
  },
  {
   "cell_type": "code",
   "execution_count": 7,
   "id": "94463423",
   "metadata": {},
   "outputs": [],
   "source": [
    "ages = list(beeData.keys())"
   ]
  },
  {
   "cell_type": "markdown",
   "id": "4dc4d649",
   "metadata": {},
   "source": [
    "## run analysis on all bee data"
   ]
  },
  {
   "cell_type": "code",
   "execution_count": 8,
   "id": "1f23491c",
   "metadata": {},
   "outputs": [],
   "source": [
    "from landau.runFittingAnalysis import runFitting"
   ]
  },
  {
   "cell_type": "code",
   "execution_count": 9,
   "id": "66c511f3",
   "metadata": {},
   "outputs": [
    {
     "name": "stderr",
     "output_type": "stream",
     "text": [
      "/Users/bdaniel6/opt/anaconda3/lib/python3.9/site-packages/openpyxl/worksheet/_read_only.py:79: UserWarning: Unknown extension is not supported and will be removed\n",
      "  for idx, row in parser.parse():\n"
     ]
    },
    {
     "name": "stdout",
     "output_type": "stream",
     "text": [
      "runFitting: Done with fitting age = 1\n",
      "runFitting: Done with fitting age = 3\n",
      "runFitting: Done with fitting age = 6\n",
      "runFitting: Done with fitting age = 10\n",
      "runFitting: Done with fitting age = 15\n"
     ]
    }
   ],
   "source": [
    "loadFromFile = False\n",
    "if loadFromFile:\n",
    "    dataDictDict = load('FittingData_bee.dat')\n",
    "else:\n",
    "    dataDictDict = runFitting()"
   ]
  },
  {
   "cell_type": "code",
   "execution_count": 10,
   "id": "bd452d6b",
   "metadata": {},
   "outputs": [
    {
     "data": {
      "text/plain": [
       "dict_keys(['vals', 'vecs', 'll', 'c', 'h', 'd', 'nuMu', 'bicDiff', 'numExtraParameters', 'include_bias', 'landauTimeMinutes', 'sampleMean', 'gitHash'])"
      ]
     },
     "execution_count": 10,
     "metadata": {},
     "output_type": "execute_result"
    }
   ],
   "source": [
    "dataDictDict[1]['landauAnalysis'].keys()"
   ]
  },
  {
   "cell_type": "code",
   "execution_count": 11,
   "id": "d44225d5-def0-4455-9b2d-f4635b103480",
   "metadata": {},
   "outputs": [
    {
     "name": "stdout",
     "output_type": "stream",
     "text": [
      "At age 1 days, Landau no bias bicDiff = 2.6988797643742752, llRatio = -0.036854478932752954\n",
      "At age 1 days, Gaussian n=2 bicDiff = 4.864527879236661\n",
      "At age 3 days, Landau no bias bicDiff = 3.0882949139525304, llRatio = 0.15785309585637464\n",
      "At age 3 days, Gaussian n=2 bicDiff = 3.7783912661460306\n",
      "At age 6 days, Landau no bias bicDiff = -3.8808548249913675, llRatio = -3.3267217736155743\n",
      "At age 6 days, Gaussian n=2 bicDiff = -4.585771713033964\n",
      "At age 10 days, Landau no bias bicDiff = -6.2923194151790725, llRatio = -4.532454068709427\n",
      "At age 10 days, Gaussian n=2 bicDiff = -3.8784781891576188\n",
      "At age 15 days, Landau no bias bicDiff = -10.015965938538677, llRatio = -6.3942773303892295\n",
      "At age 15 days, Gaussian n=2 bicDiff = -4.681058153956386\n"
     ]
    }
   ],
   "source": [
    "for age in dataDictDict.keys():\n",
    "    print(\"At age {} days, Landau no bias bicDiff = {}, llRatio = {}\".format(age,\n",
    "                                        dataDictDict[age]['landauAnalysis']['bicDiff'],\n",
    "                                        dataDictDict[age]['landauAnalysis']['ll']))\n",
    "    print(\"At age {} days, Gaussian n=2 bicDiff = {}\".format(age,\n",
    "                                        dataDictDict[age]['gaussianMixtureAnalysis1']['bicDiff']))"
   ]
  },
  {
   "cell_type": "code",
   "execution_count": 12,
   "id": "751a8ca5-bcd2-4c4b-9bbd-0c8328ea65f0",
   "metadata": {},
   "outputs": [
    {
     "name": "stdout",
     "output_type": "stream",
     "text": [
      "At age 1 days, Landau bicDiff = 5.449054550804177, llRatio = -0.048061446837692756\n",
      "At age 1 days, Gaussian n=2 bicDiff = 4.864527879236661\n",
      "At age 3 days, Landau bicDiff = 3.893234348974345, llRatio = -0.8259715477526086\n",
      "At age 3 days, Gaussian n=2 bicDiff = 3.7783912661460306\n",
      "At age 6 days, Landau bicDiff = -7.318734168329571, llRatio = -6.4319558064045665\n",
      "At age 6 days, Gaussian n=2 bicDiff = -4.585771713033964\n",
      "At age 10 days, Landau bicDiff = -7.372647082613029, llRatio = -6.458912263546296\n",
      "At age 10 days, Gaussian n=2 bicDiff = -3.8784781891576188\n",
      "At age 15 days, Landau bicDiff = -7.9695358976497355, llRatio = -6.757356671064649\n",
      "At age 15 days, Gaussian n=2 bicDiff = -4.681058153956386\n"
     ]
    }
   ],
   "source": [
    "for age in dataDictDict.keys():\n",
    "    print(\"At age {} days, Landau bicDiff = {}, llRatio = {}\".format(age,\n",
    "                                        dataDictDict[age]['landauAnalysis']['bicDiff'],\n",
    "                                        dataDictDict[age]['landauAnalysis']['ll']))\n",
    "    print(\"At age {} days, Gaussian n=2 bicDiff = {}\".format(age,\n",
    "                                        dataDictDict[age]['gaussianMixtureAnalysis1']['bicDiff']))"
   ]
  },
  {
   "cell_type": "code",
   "execution_count": 12,
   "id": "87815077",
   "metadata": {},
   "outputs": [
    {
     "name": "stdout",
     "output_type": "stream",
     "text": [
      "At age 1 days, Landau bicDiff = 2.698004207175465, llRatio = -0.037292257532158146\n",
      "At age 1 days, Gaussian n=2 bicDiff = 4.903283313353626\n",
      "At age 3 days, Landau bicDiff = 2.775104284644264, llRatio = 0.0012577812022414037\n",
      "At age 3 days, Gaussian n=2 bicDiff = 3.7783912661460306\n",
      "At age 6 days, Landau bicDiff = -3.880854824991737, llRatio = -3.326721773615759\n",
      "At age 6 days, Gaussian n=2 bicDiff = -4.585761897092581\n",
      "At age 10 days, Landau bicDiff = -6.292319415184984, llRatio = -4.532454068712383\n",
      "At age 10 days, Gaussian n=2 bicDiff = -3.878009176235423\n",
      "At age 15 days, Landau bicDiff = -10.015965938581651, llRatio = -6.394277330410716\n",
      "At age 15 days, Gaussian n=2 bicDiff = -4.6810581539564\n"
     ]
    }
   ],
   "source": [
    "# (ORIGINAL MATHEMATICA RESULTS)\n",
    "for age in dataDictDict.keys():\n",
    "    print(\"At age {} days, Landau bicDiff = {}, llRatio = {}\".format(age,\n",
    "                                        dataDictDict[age]['landauAnalysis']['bicDiff'],\n",
    "                                        dataDictDict[age]['landauAnalysis']['ll']))\n",
    "    print(\"At age {} days, Gaussian n=2 bicDiff = {}\".format(age,\n",
    "                                        dataDictDict[age]['gaussianMixtureAnalysis1']['bicDiff']))"
   ]
  },
  {
   "cell_type": "code",
   "execution_count": 13,
   "id": "ecff95b9",
   "metadata": {},
   "outputs": [
    {
     "name": "stdout",
     "output_type": "stream",
     "text": [
      "The single Gaussian fit has 2 parameters, and the Gaussian mixture model has 4 parameters.\n",
      "The Landau fit has 3 parameters (c, d, and muNu).\n"
     ]
    }
   ],
   "source": [
    "gsingle = dataDictDict[15]['gaussianMixtureAnalysis1']['gSingle']\n",
    "gmix = dataDictDict[15]['gaussianMixtureAnalysis1']['gMultiple']\n",
    "print(\"The single Gaussian fit has {} parameters, and the Gaussian mixture model has {} parameters.\".format(\n",
    "    gsingle._n_parameters(),gmix._n_parameters()))\n",
    "# (The gaussian mixture model with tied covariances and 2 components has 4 parameters:\n",
    "#  two means, one variance, and one relative weight of the components)\n",
    "print(\"The Landau fit has 3 parameters (c, d, and muNu).\")"
   ]
  },
  {
   "cell_type": "markdown",
   "id": "63e72d71",
   "metadata": {},
   "source": [
    "## plot Figure 2B"
   ]
  },
  {
   "cell_type": "code",
   "execution_count": 14,
   "id": "34fa9782",
   "metadata": {},
   "outputs": [
    {
     "data": {
      "image/png": "[encoded data removed]",
      "text/plain": [
       "<Figure size 400x300 with 1 Axes>"
      ]
     },
     "metadata": {},
     "output_type": "display_data"
    }
   ],
   "source": [
    "# NOTE: Regarding the threshold for BIC values worth mentioning,\n",
    "#       - Raftery 1999 (Table 2) (corresponding to Raftery 1995 Table 6) \n",
    "#         calls BIC of 2-6 \"positive evidence\", 6-10 \"strong\", >10 \"very strong\" \n",
    "#       - translating to a bayes factor = exp(BIC/2), refs from wikipedia page on \"bayes factor\" call:\n",
    "#          * 2.3 - 4.6 \"substantial\", 4.6 - 6.9 \"strong\", 6.9 - 9.2 \"very strong\", > 9.2 \"decisive\"\n",
    "#          * 2.3 - 4.6 \"substantial\", 4.6 - 9.2 \"strong\", > 9.2 \"decisive\"\n",
    "\n",
    "plt.figure(figsize=(4,3))\n",
    "\n",
    "plt.scatter(ages,[ -dataDictDict[age]['landauAnalysis']['bicDiffList'][0] for age in ages],\n",
    "            s=100,label='Bistable transition')\n",
    "plt.scatter(ages,[ -dataDictDict[age]['gaussianMixtureAnalysis1']['bicDiff'] for age in ages],\n",
    "            s=10,marker='x',label='Gaussian mixture')\n",
    "\n",
    "plt.xticks(ages);\n",
    "plt.xlabel('Age (days)')\n",
    "plt.ylabel('$\\Delta$BIC (positive \\n favors bimodality)')\n",
    "xmin,xmax = 0,16\n",
    "plt.hlines(0,xmin,xmax,'k',lw=0.5)\n",
    "plt.hlines(6,xmin,xmax,'0.75',ls='--',lw=1.5,zorder=-10)\n",
    "plt.axis(xmin=xmin,xmax=xmax)\n",
    "leg = plt.legend(loc=4)\n",
    "plt.subplots_adjust(bottom=0.2,top=0.95,left=0.25,right=0.95)\n",
    "makePretty(leg)\n",
    "plt.savefig('220307_BIC_vs_time.pdf')"
   ]
  },
  {
   "cell_type": "code",
   "execution_count": 15,
   "id": "04bb684b",
   "metadata": {},
   "outputs": [
    {
     "name": "stdout",
     "output_type": "stream",
     "text": [
      "At age 1 days, c = 0.7613283963919468, d = 0.08863771004747441\n",
      "At age 3 days, c = 0.9970051208031986, d = 0.0010000619358277413\n",
      "At age 6 days, c = -4.09781868786189, d = 2.3513043530281927\n",
      "At age 10 days, c = -4.7535875168251, d = 3.18993398982569\n",
      "At age 15 days, c = -6.087015248906886, d = 4.9494006791172005\n"
     ]
    }
   ],
   "source": [
    "# 2022/3/8 quote values of c and d at least for Days 10 and 15\n",
    "for age in dataDictDict.keys():\n",
    "    print(\"At age {} days, c = {}, d = {}\".format(age,\n",
    "                                        dataDictDict[age]['landauAnalysis']['cList'][0],\n",
    "                                        dataDictDict[age]['landauAnalysis']['dList'][0]))"
   ]
  },
  {
   "cell_type": "markdown",
   "id": "6cbacd79",
   "metadata": {},
   "source": [
    "## plot Figure 2A"
   ]
  },
  {
   "cell_type": "code",
   "execution_count": 16,
   "id": "c41fae70",
   "metadata": {},
   "outputs": [
    {
     "data": {
      "image/png": "[encoded data removed]",
      "text/plain": [
       "<Figure size 400x300 with 1 Axes>"
      ]
     },
     "metadata": {},
     "output_type": "display_data"
    }
   ],
   "source": [
    "# 2022/4/5 plot variance along PC as a function of age\n",
    "plt.figure(figsize=(4,3))\n",
    "\n",
    "Nsamples = 16.\n",
    "variances = np.array([ 1./dataDictDict[age]['landauAnalysis']['valList'][0] for age in ages])\n",
    "stds = np.sqrt(variances)*np.sqrt(Nsamples)/np.sqrt(Nsamples-1)\n",
    "\n",
    "stdOfStds = stds/np.sqrt(2.*(Nsamples-1))\n",
    "plt.errorbar(ages,stds,ls='',marker='o',\n",
    "            ms=10,label='Standard deviation along PC',\n",
    "            yerr=stdOfStds)\n",
    "\n",
    "plt.xticks(ages);\n",
    "plt.xlabel('Age (days)')\n",
    "plt.ylabel('Std. dev. along PC')\n",
    "ymin,ymax = 0,7\n",
    "plt.axis(ymin=ymin,ymax=ymax)\n",
    "leg = None #plt.legend(loc=4)\n",
    "plt.subplots_adjust(bottom=0.2,top=0.95,left=0.25,right=0.95)\n",
    "makePretty(leg)\n",
    "plt.savefig('220407_PC_std_dev_vs_time.pdf')"
   ]
  },
  {
   "cell_type": "markdown",
   "id": "6c2e5605",
   "metadata": {},
   "source": [
    "### 2022.2.3 order genes by fraction of variance along bistable dimension on day 15"
   ]
  },
  {
   "cell_type": "code",
   "execution_count": 18,
   "id": "8e8399a5",
   "metadata": {},
   "outputs": [],
   "source": [
    "day = 15 #10 #15\n",
    "dayData = dataDictDict[day]['landauAnalysis']\n",
    "nu = dayData['vecList'][0]\n",
    "Jnu = dayData['valList'][0]\n",
    "variances = np.diag(beeData[day].cov(ddof=0))\n",
    "\n",
    "# s = fraction of variance along bistable dimension \n",
    "# nu = bistable dimension unit vector (1st principal component)\n",
    "sList = nu**2 / Jnu / variances\n",
    "sSeries = pd.Series(sList,index=beeData[day].columns,name='fraction of gene variance along PC')\n",
    "\n",
    "# contribution to variance along principal component\n",
    "fracVarList = nu**2\n",
    "fracVarSeries = pd.Series(fracVarList,index=beeData[day].columns,name='fraction of PC variance contributed by gene')"
   ]
  },
  {
   "cell_type": "code",
   "execution_count": 19,
   "id": "f6feece5",
   "metadata": {},
   "outputs": [],
   "source": [
    "# export s values\n",
    "sSeries.sort_values(ascending=False).to_csv('220224_fraction_variance_along_PC_day_{}.csv'.format(day))"
   ]
  },
  {
   "cell_type": "code",
   "execution_count": 20,
   "id": "b61799fc",
   "metadata": {},
   "outputs": [
    {
     "data": {
      "text/html": [
       "<div>\n",
       "<style scoped>\n",
       "    .dataframe tbody tr th:only-of-type {\n",
       "        vertical-align: middle;\n",
       "    }\n",
       "\n",
       "    .dataframe tbody tr th {\n",
       "        vertical-align: top;\n",
       "    }\n",
       "\n",
       "    .dataframe thead th {\n",
       "        text-align: right;\n",
       "    }\n",
       "</style>\n",
       "<table border=\"1\" class=\"dataframe\">\n",
       "  <thead>\n",
       "    <tr style=\"text-align: right;\">\n",
       "      <th></th>\n",
       "      <th>fraction of gene variance along PC</th>\n",
       "      <th>fraction of PC variance contributed by gene</th>\n",
       "    </tr>\n",
       "  </thead>\n",
       "  <tbody>\n",
       "    <tr>\n",
       "      <th>vg</th>\n",
       "      <td>0.947</td>\n",
       "      <td>0.090</td>\n",
       "    </tr>\n",
       "    <tr>\n",
       "      <th>hex 110</th>\n",
       "      <td>0.890</td>\n",
       "      <td>0.283</td>\n",
       "    </tr>\n",
       "    <tr>\n",
       "      <th>P110</th>\n",
       "      <td>0.804</td>\n",
       "      <td>0.032</td>\n",
       "    </tr>\n",
       "    <tr>\n",
       "      <th>transferrin 1</th>\n",
       "      <td>0.804</td>\n",
       "      <td>0.019</td>\n",
       "    </tr>\n",
       "    <tr>\n",
       "      <th>LOC409966</th>\n",
       "      <td>0.774</td>\n",
       "      <td>0.020</td>\n",
       "    </tr>\n",
       "    <tr>\n",
       "      <th>Hex70a</th>\n",
       "      <td>0.768</td>\n",
       "      <td>0.095</td>\n",
       "    </tr>\n",
       "    <tr>\n",
       "      <th>JHE</th>\n",
       "      <td>0.745</td>\n",
       "      <td>0.031</td>\n",
       "    </tr>\n",
       "    <tr>\n",
       "      <th>VG protein</th>\n",
       "      <td>0.690</td>\n",
       "      <td>0.013</td>\n",
       "    </tr>\n",
       "    <tr>\n",
       "      <th>ilp1</th>\n",
       "      <td>0.687</td>\n",
       "      <td>0.040</td>\n",
       "    </tr>\n",
       "    <tr>\n",
       "      <th>Def2</th>\n",
       "      <td>0.679</td>\n",
       "      <td>0.044</td>\n",
       "    </tr>\n",
       "    <tr>\n",
       "      <th>PRM1</th>\n",
       "      <td>0.648</td>\n",
       "      <td>0.013</td>\n",
       "    </tr>\n",
       "    <tr>\n",
       "      <th>TOR</th>\n",
       "      <td>0.640</td>\n",
       "      <td>0.004</td>\n",
       "    </tr>\n",
       "    <tr>\n",
       "      <th>Hymenoptaecin</th>\n",
       "      <td>0.620</td>\n",
       "      <td>0.055</td>\n",
       "    </tr>\n",
       "    <tr>\n",
       "      <th>Malvolio</th>\n",
       "      <td>0.587</td>\n",
       "      <td>0.007</td>\n",
       "    </tr>\n",
       "    <tr>\n",
       "      <th>TYR1</th>\n",
       "      <td>0.582</td>\n",
       "      <td>0.048</td>\n",
       "    </tr>\n",
       "    <tr>\n",
       "      <th>E74</th>\n",
       "      <td>0.447</td>\n",
       "      <td>0.003</td>\n",
       "    </tr>\n",
       "    <tr>\n",
       "      <th>Kr-h1</th>\n",
       "      <td>0.438</td>\n",
       "      <td>0.015</td>\n",
       "    </tr>\n",
       "    <tr>\n",
       "      <th>cad</th>\n",
       "      <td>0.423</td>\n",
       "      <td>0.045</td>\n",
       "    </tr>\n",
       "    <tr>\n",
       "      <th>InR1</th>\n",
       "      <td>0.388</td>\n",
       "      <td>0.004</td>\n",
       "    </tr>\n",
       "    <tr>\n",
       "      <th>AGO2</th>\n",
       "      <td>0.347</td>\n",
       "      <td>0.007</td>\n",
       "    </tr>\n",
       "  </tbody>\n",
       "</table>\n",
       "</div>"
      ],
      "text/plain": [
       "               fraction of gene variance along PC  \\\n",
       "vg                                          0.947   \n",
       "hex 110                                     0.890   \n",
       "P110                                        0.804   \n",
       "transferrin 1                               0.804   \n",
       "LOC409966                                   0.774   \n",
       "Hex70a                                      0.768   \n",
       "JHE                                         0.745   \n",
       "VG protein                                  0.690   \n",
       "ilp1                                        0.687   \n",
       "Def2                                        0.679   \n",
       "PRM1                                        0.648   \n",
       "TOR                                         0.640   \n",
       "Hymenoptaecin                               0.620   \n",
       "Malvolio                                    0.587   \n",
       "TYR1                                        0.582   \n",
       "E74                                         0.447   \n",
       "Kr-h1                                       0.438   \n",
       "cad                                         0.423   \n",
       "InR1                                        0.388   \n",
       "AGO2                                        0.347   \n",
       "\n",
       "               fraction of PC variance contributed by gene  \n",
       "vg                                                   0.090  \n",
       "hex 110                                              0.283  \n",
       "P110                                                 0.032  \n",
       "transferrin 1                                        0.019  \n",
       "LOC409966                                            0.020  \n",
       "Hex70a                                               0.095  \n",
       "JHE                                                  0.031  \n",
       "VG protein                                           0.013  \n",
       "ilp1                                                 0.040  \n",
       "Def2                                                 0.044  \n",
       "PRM1                                                 0.013  \n",
       "TOR                                                  0.004  \n",
       "Hymenoptaecin                                        0.055  \n",
       "Malvolio                                             0.007  \n",
       "TYR1                                                 0.048  \n",
       "E74                                                  0.003  \n",
       "Kr-h1                                                0.015  \n",
       "cad                                                  0.045  \n",
       "InR1                                                 0.004  \n",
       "AGO2                                                 0.007  "
      ]
     },
     "execution_count": 20,
     "metadata": {},
     "output_type": "execute_result"
    }
   ],
   "source": [
    "# show both fraction along bistable dimension and contribution to PC\n",
    "pd.set_option('display.float_format',  '{:,.3f}'.format) # show 3 decimal places\n",
    "pd.set_option('display.max_rows', 100) # show all rows\n",
    "numToShow = 20\n",
    "pd.concat([sSeries,fracVarSeries],axis=1).sort_values('fraction of gene variance along PC',ascending=False)[:numToShow]"
   ]
  },
  {
   "cell_type": "code",
   "execution_count": 21,
   "id": "2d0e6334",
   "metadata": {},
   "outputs": [
    {
     "data": {
      "image/png": "[encoded data removed]",
      "text/plain": [
       "<Figure size 640x480 with 1 Axes>"
      ]
     },
     "metadata": {},
     "output_type": "display_data"
    }
   ],
   "source": [
    "sSeries.sort_values(ascending=False).plot(ls='',marker='.')\n",
    "plt.ylabel('s (fraction of gene\\nvariance along PC)')\n",
    "plt.xlabel('ordered genes');"
   ]
  },
  {
   "cell_type": "code",
   "execution_count": 22,
   "id": "04240524",
   "metadata": {},
   "outputs": [
    {
     "data": {
      "image/png": "[encoded data removed]",
      "text/plain": [
       "<Figure size 640x480 with 1 Axes>"
      ]
     },
     "metadata": {},
     "output_type": "display_data"
    }
   ],
   "source": [
    "fracVarSeries.sort_values(ascending=False).plot(ls='',marker='.')\n",
    "plt.ylabel('fraction of variance\\ncontributed by gene')\n",
    "plt.xlabel('ordered genes');"
   ]
  },
  {
   "cell_type": "markdown",
   "id": "1df3591b",
   "metadata": {},
   "source": [
    "### 2022/4/5 compute correlations of individual genes with PC"
   ]
  },
  {
   "cell_type": "code",
   "execution_count": null,
   "id": "28ed8bf6",
   "metadata": {},
   "outputs": [],
   "source": [
    "# see notes for thoughts about interpretation of these p-values..."
   ]
  },
  {
   "cell_type": "code",
   "execution_count": 23,
   "id": "34711c7f",
   "metadata": {},
   "outputs": [],
   "source": [
    "import scipy.stats as stats"
   ]
  },
  {
   "cell_type": "code",
   "execution_count": 24,
   "id": "8472bf62",
   "metadata": {},
   "outputs": [],
   "source": [
    "# get principal components\n",
    "PCdict = dict([ (age, dataDictDict[age]['landauAnalysis']['vecList'][0]) for age in ages ])"
   ]
  },
  {
   "cell_type": "code",
   "execution_count": 25,
   "id": "54595c7e",
   "metadata": {},
   "outputs": [
    {
     "name": "stdout",
     "output_type": "stream",
     "text": [
      "Day 10:\n",
      "    Cutoff of 0.01 produces 23 'significant' genes.\n",
      "\n",
      "Day 15:\n",
      "    Cutoff of 0.01 produces 17 'significant' genes.\n",
      "\n"
     ]
    }
   ],
   "source": [
    "agesToCompute = [10,15] # days\n",
    "cutoff = 0.01 # 0.001\n",
    "for age in agesToCompute:\n",
    "    genes = list(beeData[age].columns)\n",
    "    corrVals = [ stats.spearmanr(np.dot(beeData[age],PCdict[age]),\n",
    "                                 beeData[age][gene]) for gene in genes ]\n",
    "    pVals = [ stats.spearmanr(np.dot(beeData[age],PCdict[age]),\n",
    "                                 beeData[age][gene])[1] for gene in genes ]\n",
    "    pValsSeries = pd.Series(pVals,genes,name='spearman p-value')\n",
    "    pValsSeries.sort_values(inplace=True)\n",
    "    pValsSeries.to_csv('220405_gene_PC_pVals_Day_{}.csv'.format(age))\n",
    "    print(\"Day {}:\".format(age))\n",
    "    print(\"    Cutoff of {} produces {} 'significant' genes.\".format(cutoff,len(pValsSeries[pValsSeries<cutoff])))\n",
    "    print()\n",
    "    \n",
    "    # also include s values (code modified from code found above)\n",
    "    dayData = dataDictDict[age]['landauAnalysis']\n",
    "    nu = dayData['vecList'][0]\n",
    "    Jnu = dayData['valList'][0]\n",
    "    variances = np.diag(beeData[age].cov(ddof=0))\n",
    "\n",
    "    # s = fraction of variance along bistable dimension \n",
    "    # nu = bistable dimension unit vector (1st principal component)\n",
    "    sList = nu**2 / Jnu / variances\n",
    "    sSeries = pd.Series(sList,index=beeData[age].columns,name='fraction of gene variance along PC')\n",
    "    \n",
    "    # output dataframe with both s values and p values\n",
    "    df = pd.DataFrame([sSeries,pValsSeries]).T\n",
    "    df.sort_values(['fraction of gene variance along PC'],ascending=False,inplace=True)\n",
    "    df.to_csv('220407_gene_PC_contributions_Day_{}.csv'.format(age))"
   ]
  },
  {
   "cell_type": "markdown",
   "id": "d7b9b38e",
   "metadata": {},
   "source": [
    "### 2022/4/5 compute correlations of individual genes with PC"
   ]
  },
  {
   "cell_type": "code",
   "execution_count": 26,
   "id": "7c677ade",
   "metadata": {},
   "outputs": [],
   "source": [
    "import scipy.stats as stats"
   ]
  },
  {
   "cell_type": "code",
   "execution_count": 27,
   "id": "af1b9d99",
   "metadata": {},
   "outputs": [],
   "source": [
    "# get principal components\n",
    "PCdict = dict([ (age, dataDictDict[age]['landauAnalysis']['vecList'][0]) for age in ages ])"
   ]
  },
  {
   "cell_type": "code",
   "execution_count": 28,
   "id": "cc3341dc",
   "metadata": {},
   "outputs": [
    {
     "name": "stdout",
     "output_type": "stream",
     "text": [
      "Day 10:\n",
      "    Cutoff of 0.01 produces 23 'significant' genes.\n",
      "\n",
      "Day 15:\n",
      "    Cutoff of 0.01 produces 17 'significant' genes.\n",
      "\n"
     ]
    }
   ],
   "source": [
    "agesToCompute = [10,15] # days\n",
    "cutoff = 0.01 # 0.001\n",
    "for age in agesToCompute:\n",
    "    genes = list(beeData[age].columns)\n",
    "    corrVals = [ stats.spearmanr(np.dot(beeData[age],PCdict[age]),\n",
    "                                 beeData[age][gene]).correlation for gene in genes ]\n",
    "    pVals = [ stats.spearmanr(np.dot(beeData[age],PCdict[age]),\n",
    "                                 beeData[age][gene]).pvalue for gene in genes ]\n",
    "    pValsSeries = pd.Series(pVals,genes,name='spearman p-value')\n",
    "    pValsSeries.sort_values(inplace=True)\n",
    "    pValsSeries.to_csv('220405_gene_PC_pVals_Day_{}.csv'.format(age))\n",
    "    print(\"Day {}:\".format(age))\n",
    "    print(\"    Cutoff of {} produces {} 'significant' genes.\".format(cutoff,len(pValsSeries[pValsSeries<cutoff])))\n",
    "    print()\n",
    "    \n",
    "    # also include s values (code modified from code found above)\n",
    "    dayData = dataDictDict[age]['landauAnalysis']\n",
    "    nu = dayData['vecList'][0]\n",
    "    Jnu = dayData['valList'][0]\n",
    "    variances = np.diag(beeData[age].cov(ddof=0))\n",
    "\n",
    "    # s = fraction of variance along bistable dimension \n",
    "    # nu = bistable dimension unit vector (1st principal component)\n",
    "    sList = nu**2 / Jnu / variances\n",
    "    sSeries = pd.Series(sList,index=beeData[age].columns,name='fraction of gene variance along PC')\n",
    "    \n",
    "    # output dataframe with both s values and p values\n",
    "    df = pd.DataFrame([sSeries,pValsSeries]).T\n",
    "    df.sort_values(['fraction of gene variance along PC'],ascending=False,inplace=True)\n",
    "    df.to_csv('220407_gene_PC_contributions_Day_{}.csv'.format(age))"
   ]
  },
  {
   "cell_type": "code",
   "execution_count": 29,
   "id": "43dbf824",
   "metadata": {},
   "outputs": [],
   "source": [
    "corrVals_series = pd.Series(corrVals,index=genes)"
   ]
  },
  {
   "cell_type": "markdown",
   "id": "e779cef8",
   "metadata": {},
   "source": [
    "## plot Figure 7"
   ]
  },
  {
   "cell_type": "code",
   "execution_count": 30,
   "id": "848caf44",
   "metadata": {},
   "outputs": [
    {
     "data": {
      "image/png": "[encoded data removed]",
      "text/plain": [
       "<Figure size 400x300 with 1 Axes>"
      ]
     },
     "metadata": {},
     "output_type": "display_data"
    }
   ],
   "source": [
    "# 2023.4.6 compare correlation coefficients with s statistic\n",
    "plt.figure(figsize=(4,3))\n",
    "plt.scatter(sSeries,abs(corrVals_series))\n",
    "plt.xlabel('fraction $s$ of variance along $\\\\hat \\\\nu$')\n",
    "plt.ylabel('magnitude $|c|$ of \\ncorrelation with $\\\\hat \\\\nu$')\n",
    "plt.axis(xmin=0,xmax=1,ymin=0,ymax=1)\n",
    "plt.subplots_adjust(left=0.25,right=0.95,bottom=0.2,top=0.95)\n",
    "plt.xticks([0,0.25,0.5,0.75,1],[0.0,0.25,0.5,0.75,1.0])\n",
    "makePretty()\n",
    "plt.savefig('230411_c_vs_s.pdf')"
   ]
  },
  {
   "cell_type": "code",
   "execution_count": null,
   "id": "c7c5293b",
   "metadata": {},
   "outputs": [],
   "source": []
  }
 ],
 "metadata": {
  "kernelspec": {
   "display_name": "Python 3 (ipykernel)",
   "language": "python",
   "name": "python3"
  },
  "language_info": {
   "codemirror_mode": {
    "name": "ipython",
    "version": 3
   },
   "file_extension": ".py",
   "mimetype": "text/x-python",
   "name": "python",
   "nbconvert_exporter": "python",
   "pygments_lexer": "ipython3",
   "version": "3.9.18"
  }
 },
 "nbformat": 4,
 "nbformat_minor": 5
}
