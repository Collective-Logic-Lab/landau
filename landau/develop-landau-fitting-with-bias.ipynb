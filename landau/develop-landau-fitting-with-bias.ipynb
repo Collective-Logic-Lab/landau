{
 "cells": [
  {
   "cell_type": "code",
   "execution_count": null,
   "id": "6191abec-5c78-4274-b0c2-a0092b459070",
   "metadata": {},
   "outputs": [],
   "source": [
    "# develop-landau-fitting-with-bias.ipynb\n",
    "#\n",
    "# Bryan Daniels\n",
    "# 2024/3/22\n",
    "#\n",
    "# Adding a bias term to the landau analysis."
   ]
  },
  {
   "cell_type": "code",
   "execution_count": 4,
   "id": "1fbe82a4-b5e0-494f-82c0-3f7fb2278311",
   "metadata": {},
   "outputs": [],
   "source": [
    "from importlib import reload"
   ]
  },
  {
   "cell_type": "code",
   "execution_count": 3,
   "id": "15b7a59e-0012-49dc-8fd0-ed90645582e5",
   "metadata": {},
   "outputs": [
    {
     "data": {
      "text/plain": [
       "<module 'landauAnalysis' from '/Users/bdaniel6/packages/landau/landau/landauAnalysis.py'>"
      ]
     },
     "execution_count": 3,
     "metadata": {},
     "output_type": "execute_result"
    }
   ],
   "source": [
    "import numpy as np\n",
    "import matplotlib.pyplot as plt\n",
    "import landauAnalysis\n",
    "reload(landauAnalysis)"
   ]
  },
  {
   "cell_type": "code",
   "execution_count": 17,
   "id": "18045c2f-e891-436b-a5bc-91be9ead0a0a",
   "metadata": {},
   "outputs": [],
   "source": []
  },
  {
   "cell_type": "code",
   "execution_count": 4,
   "id": "2bb02ea8-0666-4ce5-b5ce-6270c9d4b99d",
   "metadata": {},
   "outputs": [
    {
     "data": {
      "text/plain": [
       "1.2329204921744008"
      ]
     },
     "execution_count": 4,
     "metadata": {},
     "output_type": "execute_result"
    }
   ],
   "source": [
    "landauAnalysis.normalizationZ(2,2,0.1,0.1,90)"
   ]
  },
  {
   "cell_type": "code",
   "execution_count": 29,
   "id": "3a47bdfc-939f-4329-ae7a-32b036f0b8d5",
   "metadata": {},
   "outputs": [],
   "source": [
    "from matplotlib import pyplot as plt"
   ]
  },
  {
   "cell_type": "code",
   "execution_count": 54,
   "id": "c008bb2d-799f-48d1-b18e-7019458c7587",
   "metadata": {},
   "outputs": [
    {
     "data": {
      "text/plain": [
       "<matplotlib.colorbar.Colorbar at 0x7f95a15bdf40>"
      ]
     },
     "execution_count": 54,
     "metadata": {},
     "output_type": "execute_result"
    },
    {
     "data": {
      "image/png": "[encoded data removed]",
      "text/plain": [
       "<Figure size 400x800 with 2 Axes>"
      ]
     },
     "metadata": {},
     "output_type": "display_data"
    }
   ],
   "source": [
    "plt.matshow(f1*f2*f3)\n",
    "plt.colorbar()"
   ]
  },
  {
   "cell_type": "code",
   "execution_count": 35,
   "id": "59d49cd8-270e-4c85-b9ff-fb390f1822e0",
   "metadata": {},
   "outputs": [
    {
     "data": {
      "text/plain": [
       "-4.27321937242563e-22"
      ]
     },
     "execution_count": 35,
     "metadata": {},
     "output_type": "execute_result"
    }
   ],
   "source": [
    "(f1*f2*f3)[-1,-1]"
   ]
  },
  {
   "cell_type": "markdown",
   "id": "491fb146-69a8-4150-98af-270e2b8f0064",
   "metadata": {},
   "source": [
    "# fitting routine"
   ]
  },
  {
   "cell_type": "code",
   "execution_count": 106,
   "id": "44209a69-205c-4e4f-8b07-138711b5fc2e",
   "metadata": {},
   "outputs": [
    {
     "data": {
      "text/plain": [
       "<module 'landauAnalysis' from '/Users/bdaniel6/packages/landau/landau/landauAnalysis.py'>"
      ]
     },
     "execution_count": 106,
     "metadata": {},
     "output_type": "execute_result"
    }
   ],
   "source": [
    "reload(landauAnalysis)"
   ]
  },
  {
   "cell_type": "code",
   "execution_count": 270,
   "id": "a2fb4140-63aa-45bc-89c8-ce357c633099",
   "metadata": {},
   "outputs": [],
   "source": [
    "TEST_DATA_1D = np.transpose([[ 1,2,2,3,6,7,7,9 ]])"
   ]
  },
  {
   "cell_type": "code",
   "execution_count": 10,
   "id": "b3d2c637-a384-4afd-9263-970a864612cd",
   "metadata": {},
   "outputs": [
    {
     "data": {
      "text/plain": [
       "array([[1],\n",
       "       [2],\n",
       "       [2],\n",
       "       [3],\n",
       "       [6],\n",
       "       [7],\n",
       "       [7],\n",
       "       [9]])"
      ]
     },
     "execution_count": 10,
     "metadata": {},
     "output_type": "execute_result"
    }
   ],
   "source": [
    "TEST_DATA_1D"
   ]
  },
  {
   "cell_type": "code",
   "execution_count": 13,
   "id": "95e5edda-3692-4081-8e49-80669a6f02cb",
   "metadata": {},
   "outputs": [],
   "source": []
  },
  {
   "cell_type": "code",
   "execution_count": 39,
   "id": "8d940fa2-e60b-440d-a2d9-b9a6f0435fd9",
   "metadata": {},
   "outputs": [
    {
     "data": {
      "text/plain": [
       "  message: Optimization terminated successfully.\n",
       "  success: True\n",
       "   status: 0\n",
       "      fun: -2.535390435538183\n",
       "        x: [-4.707e+00  3.898e+00  2.249e-01]\n",
       "      nit: 12\n",
       "      jac: [ 0.000e+00  4.768e-07 -7.153e-07]\n",
       " hess_inv: [[ 1.002e+01 -7.637e+00 -2.540e-02]\n",
       "            [-7.637e+00  6.549e+00 -9.922e-03]\n",
       "            [-2.540e-02 -9.922e-03  1.374e-01]]\n",
       "     nfev: 56\n",
       "     njev: 14"
      ]
     },
     "execution_count": 39,
     "metadata": {},
     "output_type": "execute_result"
    }
   ],
   "source": [
    "# first try optimizing with h held at zero (or near zero)\n",
    "# (try to match what we get with old mathematica code --- see test/test_landau.py)\n",
    "hfixed = +1e-10\n",
    "func = lambda params: -log_likelihood_difference_from_gaussian(TEST_DATA_1D[:,0],params[0],hfixed,params[1],params[2],maxorder=30)\n",
    "cinit,dinit,numuinit = 1,1,0\n",
    "#cbounds,dbounds,numubounds = (-100,100),(0.001,100),(-100,100)\n",
    "scipy.optimize.minimize(func,(cinit,dinit,numuinit))\n",
    "                      # bounds=(cbounds,dbounds,numubounds))"
   ]
  },
  {
   "cell_type": "code",
   "execution_count": 40,
   "id": "78603d83-ddfb-4843-8210-ca768bed619b",
   "metadata": {},
   "outputs": [
    {
     "data": {
      "text/plain": [
       "  message: Optimization terminated successfully.\n",
       "  success: True\n",
       "   status: 0\n",
       "      fun: -2.5656708617830546\n",
       "        x: [-4.691e+00  2.329e-01  3.887e+00  3.174e-01]\n",
       "      nit: 15\n",
       "      jac: [-2.384e-07 -4.768e-07  0.000e+00  0.000e+00]\n",
       " hess_inv: [[ 9.030e+00  2.336e-01 -7.113e+00  2.892e-01]\n",
       "            [ 2.336e-01  9.048e-01 -9.570e-02  3.547e-01]\n",
       "            [-7.113e+00 -9.570e-02  6.274e+00 -2.292e-01]\n",
       "            [ 2.892e-01  3.547e-01 -2.292e-01  2.805e-01]]\n",
       "     nfev: 80\n",
       "     njev: 16"
      ]
     },
     "execution_count": 40,
     "metadata": {},
     "output_type": "execute_result"
    }
   ],
   "source": [
    "func = lambda params: -log_likelihood_difference_from_gaussian(TEST_DATA_1D[:,0],*params,maxorder=30)\n",
    "cinit,hinit,dinit,numuinit = 1,0.001,1,0\n",
    "scipy.optimize.minimize(func,(cinit,hinit,dinit,numuinit))"
   ]
  },
  {
   "cell_type": "code",
   "execution_count": 273,
   "id": "bd474f2d-90ea-4eb0-b46f-f610b985608b",
   "metadata": {},
   "outputs": [
    {
     "data": {
      "text/plain": [
       "  message: CONVERGENCE: NORM_OF_PROJECTED_GRADIENT_<=_PGTOL\n",
       "  success: True\n",
       "   status: 0\n",
       "      fun: -2.5353904354095675\n",
       "        x: [-4.707e+00  1.000e-20  3.898e+00  2.249e-01]\n",
       "      nit: 13\n",
       "      jac: [ 7.105e-07 -0.000e+00 -1.066e-06 -1.421e-06]\n",
       "     nfev: 70\n",
       "     njev: 14\n",
       " hess_inv: <4x4 LbfgsInvHessProduct with dtype=float64>"
      ]
     },
     "execution_count": 273,
     "metadata": {},
     "output_type": "execute_result"
    }
   ],
   "source": [
    "landauAnalysis.maximize_landau_log_likelihood(TEST_DATA_1D[:,0],abs_hmax=1e-20)"
   ]
  },
  {
   "cell_type": "code",
   "execution_count": 271,
   "id": "c38d50c1-e410-43fc-a4b3-1d44f9291ad7",
   "metadata": {},
   "outputs": [
    {
     "data": {
      "text/plain": [
       "{'mu': 4.625,\n",
       " 'valList': array([0.12929293]),\n",
       " 'vecList': [array([1.])],\n",
       " 'llList': array([-2.53539044]),\n",
       " 'cList': array([-4.70707629]),\n",
       " 'dList': array([3.89792329]),\n",
       " 'nuMuList': array([0.22487831]),\n",
       " 'bicDiffList': array([-2.99133933])}"
      ]
     },
     "execution_count": 271,
     "metadata": {},
     "output_type": "execute_result"
    }
   ],
   "source": [
    "landauAnalysis.landauAnalysis_mathematica(TEST_DATA_1D)"
   ]
  },
  {
   "cell_type": "markdown",
   "id": "9cf3ded4-07b1-423e-9401-14aa85cb7fd0",
   "metadata": {},
   "source": [
    "## try with BoolODE data that clearly has nonzero h"
   ]
  },
  {
   "cell_type": "code",
   "execution_count": 258,
   "id": "3af7b1fd-718d-49e8-894a-707de9d4c2e6",
   "metadata": {},
   "outputs": [],
   "source": [
    "data = np.loadtxt('/Users/bdaniel6/ASUDropbox/Research/control-continuous/Synthetic-RNA-maps/240322_test_fitting_data.txt')"
   ]
  },
  {
   "cell_type": "code",
   "execution_count": 352,
   "id": "4b32b0f1-0500-43eb-92d3-af9288157b51",
   "metadata": {},
   "outputs": [],
   "source": [
    "result = landauAnalysis.maximize_landau_log_likelihood(data)"
   ]
  },
  {
   "cell_type": "code",
   "execution_count": 353,
   "id": "2794b2d5-ff6d-4322-826a-c81cd9833f0b",
   "metadata": {},
   "outputs": [
    {
     "data": {
      "text/plain": [
       "  message: CONVERGENCE: REL_REDUCTION_OF_F_<=_FACTR*EPSMCH\n",
       "  success: True\n",
       "   status: 0\n",
       "      fun: -33.79734705695188\n",
       "        x: [-2.614e+00 -1.074e+00  1.560e+00 -1.137e+00]\n",
       "      nit: 22\n",
       "      jac: [-4.263e-05 -1.123e-04 -1.023e-04  1.450e-04]\n",
       "     nfev: 140\n",
       "     njev: 28\n",
       " hess_inv: <4x4 LbfgsInvHessProduct with dtype=float64>"
      ]
     },
     "execution_count": 353,
     "metadata": {},
     "output_type": "execute_result"
    }
   ],
   "source": [
    "result"
   ]
  },
  {
   "cell_type": "code",
   "execution_count": 358,
   "id": "55258672-a6a7-4f08-9ae3-f0b55b63be9f",
   "metadata": {},
   "outputs": [
    {
     "data": {
      "text/plain": [
       "-33.79734705695188"
      ]
     },
     "execution_count": 358,
     "metadata": {},
     "output_type": "execute_result"
    }
   ],
   "source": [
    "result.fun"
   ]
  },
  {
   "cell_type": "code",
   "execution_count": 69,
   "id": "8e4ff2a2-9acf-491a-b766-b39ba315c0cb",
   "metadata": {},
   "outputs": [],
   "source": [
    "def fit_and_plot(data,**fit_kwargs):\n",
    "\n",
    "    result = landauAnalysis.maximize_landau_log_likelihood(data,**fit_kwargs)\n",
    "    \n",
    "    plt.hist(data,density=True,bins=int(np.sqrt(len(data))))\n",
    "    \n",
    "    fit_c,fit_h,fit_d,fit_numu = result.x\n",
    "\n",
    "    xpad = (max(data)-min(data))/5.\n",
    "    xmin,xmax = min(data)-xpad,max(data)+xpad\n",
    "    xs = np.linspace(xmin,xmax,1000)\n",
    "    mu = np.mean(data)\n",
    "    Jnu = 1./np.var(data)\n",
    "    Z = landauAnalysis.normalizationZ(Jnu,fit_c,fit_h,fit_d)\n",
    "    \n",
    "    fit_distribution = [ np.exp(landauAnalysis.LandauTransitionDistributionRelativeLogPDF(x-fit_numu,mu,Jnu,fit_c,fit_h,fit_d))/Z for x in xs ]\n",
    "    plt.plot(xs,fit_distribution,lw=5)\n",
    "\n",
    "    return result"
   ]
  },
  {
   "cell_type": "code",
   "execution_count": 225,
   "id": "fb39540c-9850-4388-b92c-38e8806790ea",
   "metadata": {},
   "outputs": [
    {
     "data": {
      "text/plain": [
       "<module 'landauAnalysis' from '/Users/bdaniel6/packages/landau/landau/landauAnalysis.py'>"
      ]
     },
     "execution_count": 225,
     "metadata": {},
     "output_type": "execute_result"
    }
   ],
   "source": [
    "reload(landauAnalysis)"
   ]
  },
  {
   "cell_type": "code",
   "execution_count": 349,
   "id": "db1bd9c0-eed3-445c-9aa6-fcece8911501",
   "metadata": {},
   "outputs": [
    {
     "data": {
      "image/png": "[encoded data removed]",
      "text/plain": [
       "<Figure size 640x480 with 1 Axes>"
      ]
     },
     "metadata": {},
     "output_type": "display_data"
    }
   ],
   "source": [
    "result = fit_and_plot(data)"
   ]
  },
  {
   "cell_type": "code",
   "execution_count": 350,
   "id": "a6040844-6adc-46e4-8e72-1b42872c40f3",
   "metadata": {},
   "outputs": [
    {
     "data": {
      "text/plain": [
       "-33.79734705695188"
      ]
     },
     "execution_count": 350,
     "metadata": {},
     "output_type": "execute_result"
    }
   ],
   "source": [
    "result.fun"
   ]
  },
  {
   "cell_type": "code",
   "execution_count": 268,
   "id": "a9c12ae7-ec12-4b11-8ea7-e6b22d2bc349",
   "metadata": {},
   "outputs": [
    {
     "data": {
      "text/plain": [
       "[<matplotlib.lines.Line2D at 0x7fa541c676a0>]"
      ]
     },
     "execution_count": 268,
     "metadata": {},
     "output_type": "execute_result"
    },
    {
     "data": {
      "image/png": "[encoded data removed]",
      "text/plain": [
       "<Figure size 640x480 with 1 Axes>"
      ]
     },
     "metadata": {},
     "output_type": "display_data"
    }
   ],
   "source": [
    "xs = np.linspace(-3,10,1000)\n",
    "mu = 0\n",
    "Jnu = 1\n",
    "c,h,d = -1.,-1,1\n",
    "plt.plot(xs,[np.exp(landauAnalysis.LandauTransitionDistributionRelativeLogPDF(x,mu,Jnu,c,h,d)) for x in xs])"
   ]
  },
  {
   "cell_type": "markdown",
   "id": "fd86796a-d359-4d60-a998-d013edcf7efc",
   "metadata": {},
   "source": [
    "# try fitting simulation data"
   ]
  },
  {
   "cell_type": "code",
   "execution_count": 5,
   "id": "c4945805-7227-4c81-b720-ff6c5def0ed3",
   "metadata": {},
   "outputs": [],
   "source": [
    "import pandas as pd"
   ]
  },
  {
   "cell_type": "code",
   "execution_count": 54,
   "id": "cb25812e-1a46-4f50-95ca-66ec270ed712",
   "metadata": {},
   "outputs": [
    {
     "data": {
      "text/plain": [
       "<module 'landauAnalysis' from '/Users/bdaniel6/packages/landau/landau/landauAnalysis.py'>"
      ]
     },
     "execution_count": 54,
     "metadata": {},
     "output_type": "execute_result"
    }
   ],
   "source": [
    "reload(landauAnalysis)"
   ]
  },
  {
   "cell_type": "code",
   "execution_count": 20,
   "id": "384bcf64-7f66-4618-879d-4f7c435f185e",
   "metadata": {},
   "outputs": [],
   "source": [
    "def principal_component_proj(data):\n",
    "    \"\"\"\n",
    "    Given data of shape (# samples)x(# dimensions), returns the 1-dimensional projection \n",
    "    of length (# samples) onto the first principal component.\n",
    "\n",
    "    Note that the projection is also centered to have mean 0.\n",
    "    \"\"\"\n",
    "    PCAvals,PCAvecs = landauAnalysis.principalComponents(data)\n",
    "    projVec = PCAvecs[0]\n",
    "    sampleMean = data.mean()\n",
    "    return np.dot(data-sampleMean,projVec)"
   ]
  },
  {
   "cell_type": "code",
   "execution_count": 247,
   "id": "3dd5408b-fbef-4e89-99d2-6ae97835ee2a",
   "metadata": {},
   "outputs": [],
   "source": [
    "#data_sim = pd.read_csv('240326_example_simulation_run_18_0_0.0.csv').drop('Unnamed: 0',axis=1)\n",
    "data_sim = pd.read_csv('240326_example_simulation_run_18_0_0.02197802197802198.csv').drop('Unnamed: 0',axis=1)"
   ]
  },
  {
   "cell_type": "code",
   "execution_count": 248,
   "id": "ecfe94ba-3ed1-4224-80c4-180f5912777e",
   "metadata": {},
   "outputs": [],
   "source": [
    "data_sim_proj = principal_component_proj(data_sim)"
   ]
  },
  {
   "cell_type": "code",
   "execution_count": 249,
   "id": "15959feb-935e-4097-a71e-bed8ae9ba0e6",
   "metadata": {},
   "outputs": [
    {
     "data": {
      "text/plain": [
       "array([-15.56813387,  15.80659403,  16.68259997,  16.17744904,\n",
       "        16.47473291, -16.10998222, -17.38832699,  16.92766729,\n",
       "        16.85658502,  16.06551564, -16.61063726, -16.60344865,\n",
       "       -16.41819715, -16.33074274, -17.91711983,  17.9554448 ])"
      ]
     },
     "execution_count": 249,
     "metadata": {},
     "output_type": "execute_result"
    }
   ],
   "source": [
    "data_sim_proj"
   ]
  },
  {
   "cell_type": "code",
   "execution_count": null,
   "id": "e526cd95-41c4-4d05-8330-70a8d8d28473",
   "metadata": {},
   "outputs": [],
   "source": [
    "# c,h,d,numu"
   ]
  },
  {
   "cell_type": "code",
   "execution_count": 281,
   "id": "cbe1c0ae-df6a-4cb5-8a04-8d46dc0757ab",
   "metadata": {},
   "outputs": [
    {
     "data": {
      "image/png": "[encoded data removed]",
      "text/plain": [
       "<Figure size 640x480 with 1 Axes>"
      ]
     },
     "metadata": {},
     "output_type": "display_data"
    }
   ],
   "source": [
    "result = fit_and_plot(data_sim_proj,abs_hmax=1e-20)"
   ]
  },
  {
   "cell_type": "code",
   "execution_count": 256,
   "id": "e2559036-924a-4a5b-8aed-b3aeded375e5",
   "metadata": {},
   "outputs": [
    {
     "data": {
      "image/png": "[encoded data removed]",
      "text/plain": [
       "<Figure size 640x480 with 1 Axes>"
      ]
     },
     "metadata": {},
     "output_type": "display_data"
    }
   ],
   "source": [
    "result = fit_and_plot(data_sim_proj,abs_hmax=1e-20,dinit=314.43525984,cinit=-315.44178219)"
   ]
  },
  {
   "cell_type": "code",
   "execution_count": 282,
   "id": "c700b826-fc39-4633-b5de-020f986271da",
   "metadata": {},
   "outputs": [
    {
     "data": {
      "text/plain": [
       "  message: CONVERGENCE: REL_REDUCTION_OF_F_<=_FACTR*EPSMCH\n",
       "  success: True\n",
       "   status: 0\n",
       "      fun: -40.4092832186939\n",
       "        x: [-3.153e+02  1.000e-20  3.143e+02 -3.576e-03]\n",
       "      nit: 23\n",
       "      jac: [-4.832e-05 -0.000e+00 -4.547e-05  1.137e-05]\n",
       "     nfev: 230\n",
       "     njev: 46\n",
       " hess_inv: <4x4 LbfgsInvHessProduct with dtype=float64>"
      ]
     },
     "execution_count": 282,
     "metadata": {},
     "output_type": "execute_result"
    }
   ],
   "source": [
    "result"
   ]
  },
  {
   "cell_type": "code",
   "execution_count": 283,
   "id": "1c076382-5a53-430d-b4f5-3d5ae80e59f9",
   "metadata": {},
   "outputs": [
    {
     "data": {
      "text/plain": [
       "-315.2958247307939"
      ]
     },
     "execution_count": 283,
     "metadata": {},
     "output_type": "execute_result"
    }
   ],
   "source": [
    "result.x[0]"
   ]
  },
  {
   "cell_type": "code",
   "execution_count": 279,
   "id": "ba7d036c-4010-4b76-bbe8-6b3d865f252a",
   "metadata": {},
   "outputs": [],
   "source": [
    "import scipy.optimize"
   ]
  },
  {
   "cell_type": "code",
   "execution_count": 343,
   "id": "992d8b13-3817-4065-ba60-0cd0091621f6",
   "metadata": {},
   "outputs": [],
   "source": [
    "func = lambda params: -landauAnalysis.log_likelihood_difference_from_gaussian(data_sim_proj,\n",
    "        *params,maxorder=500)\n",
    "cinit = -1\n",
    "hinit = 1e-3\n",
    "dinit=2\n",
    "numuinit=0\n",
    "dmin= 1#0.1\n",
    "cmax = 1.5\n",
    "abs_hmax = 1e-20\n",
    "hbounds = (-abs_hmax,abs_hmax)\n",
    "cbounds,dbounds,numubounds = (None,cmax),(dmin,None),(None,None)\n",
    "result = scipy.optimize.minimize(func,(cinit,hinit,dinit,numuinit),\n",
    "        bounds=(cbounds,hbounds,dbounds,numubounds),\n",
    "        tol=1e-1000)"
   ]
  },
  {
   "cell_type": "code",
   "execution_count": 344,
   "id": "70a57f90-18a2-4259-8143-0126c0a3571e",
   "metadata": {},
   "outputs": [
    {
     "data": {
      "text/plain": [
       "-40.409283218781795"
      ]
     },
     "execution_count": 344,
     "metadata": {},
     "output_type": "execute_result"
    }
   ],
   "source": [
    "result.fun"
   ]
  },
  {
   "cell_type": "code",
   "execution_count": 348,
   "id": "88642dd1-027e-4af1-8130-8ed7da815471",
   "metadata": {},
   "outputs": [
    {
     "data": {
      "text/plain": [
       "-0.0035761921310620095"
      ]
     },
     "execution_count": 348,
     "metadata": {},
     "output_type": "execute_result"
    }
   ],
   "source": [
    "result.x[3]"
   ]
  },
  {
   "cell_type": "code",
   "execution_count": 288,
   "id": "364765c0-bc42-48dd-8128-a428c0d14586",
   "metadata": {},
   "outputs": [
    {
     "data": {
      "text/plain": [
       "-315.2958247307939"
      ]
     },
     "execution_count": 288,
     "metadata": {},
     "output_type": "execute_result"
    }
   ],
   "source": [
    "result.x[0]"
   ]
  },
  {
   "cell_type": "code",
   "execution_count": null,
   "id": "2e9fa77e-bf32-4599-a95a-0b6eb8d21734",
   "metadata": {},
   "outputs": [],
   "source": []
  }
 ],
 "metadata": {
  "kernelspec": {
   "display_name": "Python 3 (ipykernel)",
   "language": "python",
   "name": "python3"
  },
  "language_info": {
   "codemirror_mode": {
    "name": "ipython",
    "version": 3
   },
   "file_extension": ".py",
   "mimetype": "text/x-python",
   "name": "python",
   "nbconvert_exporter": "python",
   "pygments_lexer": "ipython3",
   "version": "3.9.18"
  }
 },
 "nbformat": 4,
 "nbformat_minor": 5
}
