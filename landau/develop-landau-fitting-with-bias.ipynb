{
 "cells": [
  {
   "cell_type": "code",
   "execution_count": null,
   "id": "6191abec-5c78-4274-b0c2-a0092b459070",
   "metadata": {},
   "outputs": [],
   "source": [
    "# develop-landau-fitting-with-bias.ipynb\n",
    "#\n",
    "# Bryan Daniels\n",
    "# 2024/3/22\n",
    "#\n",
    "# Adding a bias term to the landau analysis."
   ]
  },
  {
   "cell_type": "code",
   "execution_count": 1,
   "id": "1fbe82a4-b5e0-494f-82c0-3f7fb2278311",
   "metadata": {},
   "outputs": [],
   "source": [
    "from importlib import reload"
   ]
  },
  {
   "cell_type": "code",
   "execution_count": 25,
   "id": "15b7a59e-0012-49dc-8fd0-ed90645582e5",
   "metadata": {},
   "outputs": [
    {
     "data": {
      "text/plain": [
       "<module 'landauAnalysis' from '/Users/bdaniel6/packages/landau/landau/landauAnalysis.py'>"
      ]
     },
     "execution_count": 25,
     "metadata": {},
     "output_type": "execute_result"
    }
   ],
   "source": [
    "import numpy as np\n",
    "import matplotlib.pyplot as plt\n",
    "import landauAnalysis\n",
    "reload(landauAnalysis)"
   ]
  },
  {
   "cell_type": "code",
   "execution_count": 17,
   "id": "18045c2f-e891-436b-a5bc-91be9ead0a0a",
   "metadata": {},
   "outputs": [],
   "source": []
  },
  {
   "cell_type": "code",
   "execution_count": 4,
   "id": "2bb02ea8-0666-4ce5-b5ce-6270c9d4b99d",
   "metadata": {},
   "outputs": [
    {
     "data": {
      "text/plain": [
       "1.2329204921744008"
      ]
     },
     "execution_count": 4,
     "metadata": {},
     "output_type": "execute_result"
    }
   ],
   "source": [
    "landauAnalysis.normalizationZ(2,2,0.1,0.1,90)"
   ]
  },
  {
   "cell_type": "code",
   "execution_count": 29,
   "id": "3a47bdfc-939f-4329-ae7a-32b036f0b8d5",
   "metadata": {},
   "outputs": [],
   "source": [
    "from matplotlib import pyplot as plt"
   ]
  },
  {
   "cell_type": "code",
   "execution_count": 54,
   "id": "c008bb2d-799f-48d1-b18e-7019458c7587",
   "metadata": {},
   "outputs": [
    {
     "data": {
      "text/plain": [
       "<matplotlib.colorbar.Colorbar at 0x7f95a15bdf40>"
      ]
     },
     "execution_count": 54,
     "metadata": {},
     "output_type": "execute_result"
    },
    {
     "data": {
      "image/png": "[encoded data removed]",
      "text/plain": [
       "<Figure size 400x800 with 2 Axes>"
      ]
     },
     "metadata": {},
     "output_type": "display_data"
    }
   ],
   "source": [
    "plt.matshow(f1*f2*f3)\n",
    "plt.colorbar()"
   ]
  },
  {
   "cell_type": "code",
   "execution_count": 35,
   "id": "59d49cd8-270e-4c85-b9ff-fb390f1822e0",
   "metadata": {},
   "outputs": [
    {
     "data": {
      "text/plain": [
       "-4.27321937242563e-22"
      ]
     },
     "execution_count": 35,
     "metadata": {},
     "output_type": "execute_result"
    }
   ],
   "source": [
    "(f1*f2*f3)[-1,-1]"
   ]
  },
  {
   "cell_type": "markdown",
   "id": "491fb146-69a8-4150-98af-270e2b8f0064",
   "metadata": {},
   "source": [
    "# fitting routine"
   ]
  },
  {
   "cell_type": "code",
   "execution_count": 106,
   "id": "44209a69-205c-4e4f-8b07-138711b5fc2e",
   "metadata": {},
   "outputs": [
    {
     "data": {
      "text/plain": [
       "<module 'landauAnalysis' from '/Users/bdaniel6/packages/landau/landau/landauAnalysis.py'>"
      ]
     },
     "execution_count": 106,
     "metadata": {},
     "output_type": "execute_result"
    }
   ],
   "source": [
    "reload(landauAnalysis)"
   ]
  },
  {
   "cell_type": "code",
   "execution_count": 9,
   "id": "a2fb4140-63aa-45bc-89c8-ce357c633099",
   "metadata": {},
   "outputs": [],
   "source": [
    "TEST_DATA_1D = np.transpose([[ 1,2,2,3,6,7,7,9 ]])"
   ]
  },
  {
   "cell_type": "code",
   "execution_count": 10,
   "id": "b3d2c637-a384-4afd-9263-970a864612cd",
   "metadata": {},
   "outputs": [
    {
     "data": {
      "text/plain": [
       "array([[1],\n",
       "       [2],\n",
       "       [2],\n",
       "       [3],\n",
       "       [6],\n",
       "       [7],\n",
       "       [7],\n",
       "       [9]])"
      ]
     },
     "execution_count": 10,
     "metadata": {},
     "output_type": "execute_result"
    }
   ],
   "source": [
    "TEST_DATA_1D"
   ]
  },
  {
   "cell_type": "code",
   "execution_count": 11,
   "id": "bcc158d3-5ec3-48aa-89ca-f421caac3859",
   "metadata": {},
   "outputs": [],
   "source": [
    "def log_likelihood(x_list,c,h,d,numu,maxorder=30):\n",
    "    \"\"\"\n",
    "    x_list should be a list of single numbers of length num_samples\n",
    "    \"\"\"\n",
    "    mu = np.mean(x_list)\n",
    "    Jnu = 1./np.var(x_list)\n",
    "    Z = landauAnalysis.normalizationZ(Jnu,c,h,d,maxorder)\n",
    "    log_likelihoods = [ landauAnalysis.LandauTransitionDistributionRelativeLogPDF(x,mu+numu,Jnu,c,h,d) - np.log(Z) for x in x_list ]\n",
    "    return np.sum(log_likelihoods)"
   ]
  },
  {
   "cell_type": "code",
   "execution_count": 32,
   "id": "f8a67fe0-b8fb-4f8a-b65d-3b332201a563",
   "metadata": {},
   "outputs": [],
   "source": [
    "def log_likelihood_difference_from_gaussian(x_list,c,h,d,numu,maxorder=30):\n",
    "    \"\"\"\n",
    "    x_list should be a list of single numbers of length num_samples\n",
    "    \"\"\"\n",
    "    mu = np.mean(x_list)\n",
    "    Jnu = 1./np.var(x_list)\n",
    "    landau_ll = log_likelihood(x_list,c,h,d,numu,maxorder)\n",
    "    gaussian_ll = np.sum([ landauAnalysis.GaussianDistributionLogPDF(x,mu,Jnu) for x in x_list ])\n",
    "    return landau_ll - gaussian_ll"
   ]
  },
  {
   "cell_type": "code",
   "execution_count": 12,
   "id": "74d85c67-068f-4859-812d-7e3b42e5f571",
   "metadata": {},
   "outputs": [
    {
     "data": {
      "text/plain": [
       "-20.934514165200724"
      ]
     },
     "execution_count": 12,
     "metadata": {},
     "output_type": "execute_result"
    }
   ],
   "source": [
    "log_likelihood(TEST_DATA_1D[:,0],1,1,1,0.1)"
   ]
  },
  {
   "cell_type": "code",
   "execution_count": 13,
   "id": "95e5edda-3692-4081-8e49-80669a6f02cb",
   "metadata": {},
   "outputs": [],
   "source": [
    "import scipy.optimize"
   ]
  },
  {
   "cell_type": "code",
   "execution_count": 39,
   "id": "8d940fa2-e60b-440d-a2d9-b9a6f0435fd9",
   "metadata": {},
   "outputs": [
    {
     "data": {
      "text/plain": [
       "  message: Optimization terminated successfully.\n",
       "  success: True\n",
       "   status: 0\n",
       "      fun: -2.535390435538183\n",
       "        x: [-4.707e+00  3.898e+00  2.249e-01]\n",
       "      nit: 12\n",
       "      jac: [ 0.000e+00  4.768e-07 -7.153e-07]\n",
       " hess_inv: [[ 1.002e+01 -7.637e+00 -2.540e-02]\n",
       "            [-7.637e+00  6.549e+00 -9.922e-03]\n",
       "            [-2.540e-02 -9.922e-03  1.374e-01]]\n",
       "     nfev: 56\n",
       "     njev: 14"
      ]
     },
     "execution_count": 39,
     "metadata": {},
     "output_type": "execute_result"
    }
   ],
   "source": [
    "# first try optimizing with h held at zero (or near zero)\n",
    "# (try to match what we get with old mathematica code --- see test/test_landau.py)\n",
    "hfixed = +1e-10\n",
    "func = lambda params: -log_likelihood_difference_from_gaussian(TEST_DATA_1D[:,0],params[0],hfixed,params[1],params[2],maxorder=30)\n",
    "cinit,dinit,numuinit = 1,1,0\n",
    "#cbounds,dbounds,numubounds = (-100,100),(0.001,100),(-100,100)\n",
    "scipy.optimize.minimize(func,(cinit,dinit,numuinit))\n",
    "                      # bounds=(cbounds,dbounds,numubounds))"
   ]
  },
  {
   "cell_type": "code",
   "execution_count": 40,
   "id": "78603d83-ddfb-4843-8210-ca768bed619b",
   "metadata": {},
   "outputs": [
    {
     "data": {
      "text/plain": [
       "  message: Optimization terminated successfully.\n",
       "  success: True\n",
       "   status: 0\n",
       "      fun: -2.5656708617830546\n",
       "        x: [-4.691e+00  2.329e-01  3.887e+00  3.174e-01]\n",
       "      nit: 15\n",
       "      jac: [-2.384e-07 -4.768e-07  0.000e+00  0.000e+00]\n",
       " hess_inv: [[ 9.030e+00  2.336e-01 -7.113e+00  2.892e-01]\n",
       "            [ 2.336e-01  9.048e-01 -9.570e-02  3.547e-01]\n",
       "            [-7.113e+00 -9.570e-02  6.274e+00 -2.292e-01]\n",
       "            [ 2.892e-01  3.547e-01 -2.292e-01  2.805e-01]]\n",
       "     nfev: 80\n",
       "     njev: 16"
      ]
     },
     "execution_count": 40,
     "metadata": {},
     "output_type": "execute_result"
    }
   ],
   "source": [
    "func = lambda params: -log_likelihood_difference_from_gaussian(TEST_DATA_1D[:,0],*params,maxorder=30)\n",
    "cinit,hinit,dinit,numuinit = 1,0.001,1,0\n",
    "scipy.optimize.minimize(func,(cinit,hinit,dinit,numuinit))"
   ]
  },
  {
   "cell_type": "code",
   "execution_count": 37,
   "id": "ecee409f-691f-40b2-a165-6a108394eafb",
   "metadata": {},
   "outputs": [],
   "source": [
    "def maximize_log_likelihood(x_list):\n",
    "    func = lambda params: -log_likelihood_difference_from_gaussian(x_list,*params,maxorder=30)\n",
    "    cinit,hinit,dinit,numuinit = 1,1e-3,1,0\n",
    "    return scipy.optimize.minimize(func,(cinit,hinit,dinit,numuinit))"
   ]
  },
  {
   "cell_type": "code",
   "execution_count": 38,
   "id": "bd474f2d-90ea-4eb0-b46f-f610b985608b",
   "metadata": {},
   "outputs": [
    {
     "data": {
      "text/plain": [
       "  message: Optimization terminated successfully.\n",
       "  success: True\n",
       "   status: 0\n",
       "      fun: -2.5656708617830546\n",
       "        x: [-4.691e+00  2.329e-01  3.887e+00  3.174e-01]\n",
       "      nit: 15\n",
       "      jac: [-2.384e-07 -4.768e-07  0.000e+00  0.000e+00]\n",
       " hess_inv: [[ 9.030e+00  2.336e-01 -7.113e+00  2.892e-01]\n",
       "            [ 2.336e-01  9.048e-01 -9.570e-02  3.547e-01]\n",
       "            [-7.113e+00 -9.570e-02  6.274e+00 -2.292e-01]\n",
       "            [ 2.892e-01  3.547e-01 -2.292e-01  2.805e-01]]\n",
       "     nfev: 80\n",
       "     njev: 16"
      ]
     },
     "execution_count": 38,
     "metadata": {},
     "output_type": "execute_result"
    }
   ],
   "source": [
    "maximize_log_likelihood(TEST_DATA_1D[:,0])"
   ]
  },
  {
   "cell_type": "code",
   "execution_count": 18,
   "id": "c38d50c1-e410-43fc-a4b3-1d44f9291ad7",
   "metadata": {},
   "outputs": [
    {
     "name": "stdout",
     "output_type": "stream",
     "text": [
      "\n",
      "FindMinimum::cnpcons: Could not process the constraints {d > 0.001}.\n"
     ]
    },
    {
     "data": {
      "text/plain": [
       "{'mu': 4.625,\n",
       " 'valList': array([0.12929293]),\n",
       " 'vecList': [array([1.])],\n",
       " 'llList': array([-2.53539044]),\n",
       " 'cList': array([-4.70707629]),\n",
       " 'dList': array([3.89792329]),\n",
       " 'nuMuList': array([0.22487831]),\n",
       " 'bicDiffList': array([-2.99133933])}"
      ]
     },
     "execution_count": 18,
     "metadata": {},
     "output_type": "execute_result"
    }
   ],
   "source": [
    "landauAnalysis.landauAnalysis_mathematica(TEST_DATA_1D)"
   ]
  },
  {
   "cell_type": "markdown",
   "id": "9cf3ded4-07b1-423e-9401-14aa85cb7fd0",
   "metadata": {},
   "source": [
    "## try with BoolODE data that clearly has nonzero h"
   ]
  },
  {
   "cell_type": "code",
   "execution_count": 19,
   "id": "3af7b1fd-718d-49e8-894a-707de9d4c2e6",
   "metadata": {},
   "outputs": [],
   "source": [
    "data = np.loadtxt('/Users/bdaniel6/ASUDropbox/Research/control-continuous/Synthetic-RNA-maps/240322_test_fitting_data.txt')"
   ]
  },
  {
   "cell_type": "code",
   "execution_count": 41,
   "id": "4b32b0f1-0500-43eb-92d3-af9288157b51",
   "metadata": {},
   "outputs": [
    {
     "name": "stderr",
     "output_type": "stream",
     "text": [
      "/Users/bdaniel6/packages/landau/landau/landauAnalysis.py:226: RuntimeWarning: invalid value encountered in power\n",
      "  factor3 = gamma((6*n + 2*m + 1)/4) / ( ((d*Jnu**2)/4)**((6*n + 2*m + 1)/4) )\n",
      "/Users/bdaniel6/packages/landau/landau/landauAnalysis.py:227: RuntimeWarning: overflow encountered in multiply\n",
      "  summand_mat = factor1 * factor2 * factor3\n",
      "/Users/bdaniel6/packages/landau/landau/landauAnalysis.py:225: RuntimeWarning: overflow encountered in power\n",
      "  factor2 = ((-c*Jnu/2)**m) / factorial(m)\n",
      "/Users/bdaniel6/packages/landau/landau/landauAnalysis.py:224: RuntimeWarning: overflow encountered in power\n",
      "  factor1 = ((-h*Jnu**(3/2)/3)**(2*n)) / factorial(2*n)\n",
      "/Users/bdaniel6/packages/landau/landau/landauAnalysis.py:226: RuntimeWarning: invalid value encountered in power\n",
      "  factor3 = gamma((6*n + 2*m + 1)/4) / ( ((d*Jnu**2)/4)**((6*n + 2*m + 1)/4) )\n",
      "/Users/bdaniel6/packages/landau/landau/landauAnalysis.py:226: RuntimeWarning: invalid value encountered in power\n",
      "  factor3 = gamma((6*n + 2*m + 1)/4) / ( ((d*Jnu**2)/4)**((6*n + 2*m + 1)/4) )\n"
     ]
    },
    {
     "data": {
      "text/plain": [
       "  message: Desired error not necessarily achieved due to precision loss.\n",
       "  success: False\n",
       "   status: 2\n",
       "      fun: nan\n",
       "        x: [-5.415e+02  1.558e+02 -8.990e+02  1.895e+02]\n",
       "      nit: 2\n",
       "      jac: [       nan        nan        nan        nan]\n",
       " hess_inv: [[ 1.051e+00 -1.957e-02  8.899e-02  6.065e-04]\n",
       "            [-1.957e-02  9.453e-01  1.658e-02  2.367e-01]\n",
       "            [ 8.899e-02  1.658e-02  1.113e+00 -1.916e-01]\n",
       "            [ 6.065e-04  2.367e-01 -1.916e-01  9.708e-02]]\n",
       "     nfev: 570\n",
       "     njev: 114"
      ]
     },
     "execution_count": 41,
     "metadata": {},
     "output_type": "execute_result"
    }
   ],
   "source": [
    "maximize_log_likelihood(data)"
   ]
  },
  {
   "cell_type": "code",
   "execution_count": 42,
   "id": "c4552549-827a-4bd9-abf1-e94a452c7a4a",
   "metadata": {},
   "outputs": [],
   "source": [
    "# need to use larger minimum d here... should we do that more generally?\n",
    "func = lambda params: -log_likelihood_difference_from_gaussian(data,*params,maxorder=30)\n",
    "cinit,hinit,dinit,numuinit = 1,1e-3,1,0\n",
    "cbounds,hbounds,dbounds,numubounds = (None,0),(None,None),(0.1,None),(None,None)\n",
    "result = scipy.optimize.minimize(func,(cinit,hinit,dinit,numuinit),\n",
    "                       bounds=(cbounds,hbounds,dbounds,numubounds))"
   ]
  },
  {
   "cell_type": "code",
   "execution_count": 43,
   "id": "d5f21fcf-d9ad-4ab7-a3e1-0599f1b76cf1",
   "metadata": {},
   "outputs": [
    {
     "data": {
      "text/plain": [
       "  message: CONVERGENCE: REL_REDUCTION_OF_F_<=_FACTR*EPSMCH\n",
       "  success: True\n",
       "   status: 0\n",
       "      fun: -33.79734706188164\n",
       "        x: [-2.614e+00 -1.074e+00  1.560e+00 -1.137e+00]\n",
       "      nit: 26\n",
       "      jac: [ 2.842e-06 -1.137e-05 -1.279e-05  2.132e-05]\n",
       "     nfev: 180\n",
       "     njev: 36\n",
       " hess_inv: <4x4 LbfgsInvHessProduct with dtype=float64>"
      ]
     },
     "execution_count": 43,
     "metadata": {},
     "output_type": "execute_result"
    }
   ],
   "source": [
    "result"
   ]
  },
  {
   "cell_type": "code",
   "execution_count": 23,
   "id": "55258672-a6a7-4f08-9ae3-f0b55b63be9f",
   "metadata": {},
   "outputs": [
    {
     "data": {
      "text/plain": [
       "array([-2.6139492 , -1.07391036,  1.55960525, -1.13663287])"
      ]
     },
     "execution_count": 23,
     "metadata": {},
     "output_type": "execute_result"
    }
   ],
   "source": [
    "result.x"
   ]
  },
  {
   "cell_type": "code",
   "execution_count": 26,
   "id": "8e4ff2a2-9acf-491a-b766-b39ba315c0cb",
   "metadata": {},
   "outputs": [
    {
     "data": {
      "image/png": "[encoded data removed]",
      "text/plain": [
       "<Figure size 640x480 with 1 Axes>"
      ]
     },
     "metadata": {},
     "output_type": "display_data"
    }
   ],
   "source": [
    "plt.hist(data,density=True)\n",
    "\n",
    "fit_c,fit_h,fit_d,fit_numu = result.x\n",
    "\n",
    "xs = np.linspace(-3,3,1000)\n",
    "mu = np.mean(data)\n",
    "Jnu = 1./np.var(data)\n",
    "Z = landauAnalysis.normalizationZ(Jnu,fit_c,fit_h,fit_d)\n",
    "\n",
    "fit_distribution = [ np.exp(landauAnalysis.LandauTransitionDistributionRelativeLogPDF(x-fit_numu,mu,Jnu,fit_c,fit_h,fit_d))/Z for x in xs ]\n",
    "plt.plot(xs,fit_distribution,lw=5);"
   ]
  },
  {
   "cell_type": "code",
   "execution_count": 27,
   "id": "2a6df197-bfcb-46f9-b0d9-bf1bc07baa8e",
   "metadata": {},
   "outputs": [
    {
     "data": {
      "text/plain": [
       "113.59366828488983"
      ]
     },
     "execution_count": 27,
     "metadata": {},
     "output_type": "execute_result"
    }
   ],
   "source": [
    "result.fun"
   ]
  },
  {
   "cell_type": "code",
   "execution_count": 30,
   "id": "df32b060-9266-4cc9-8393-ba416fef42b0",
   "metadata": {},
   "outputs": [
    {
     "data": {
      "text/plain": [
       "<module 'landauAnalysis' from '/Users/bdaniel6/packages/landau/landau/landauAnalysis.py'>"
      ]
     },
     "execution_count": 30,
     "metadata": {},
     "output_type": "execute_result"
    }
   ],
   "source": [
    "reload(landauAnalysis)"
   ]
  },
  {
   "cell_type": "code",
   "execution_count": 31,
   "id": "6b687d97-8d68-4c33-9d61-24adbca8aa9e",
   "metadata": {},
   "outputs": [
    {
     "data": {
      "text/plain": [
       "-1.078067599084989"
      ]
     },
     "execution_count": 31,
     "metadata": {},
     "output_type": "execute_result"
    }
   ],
   "source": [
    "landauAnalysis.GaussianDistributionLogPDF(0,mu,Jnu)"
   ]
  },
  {
   "cell_type": "code",
   "execution_count": null,
   "id": "f7509c92-b70a-4039-8fab-702540c06c40",
   "metadata": {},
   "outputs": [],
   "source": []
  }
 ],
 "metadata": {
  "kernelspec": {
   "display_name": "Python 3 (ipykernel)",
   "language": "python",
   "name": "python3"
  },
  "language_info": {
   "codemirror_mode": {
    "name": "ipython",
    "version": 3
   },
   "file_extension": ".py",
   "mimetype": "text/x-python",
   "name": "python",
   "nbconvert_exporter": "python",
   "pygments_lexer": "ipython3",
   "version": "3.9.18"
  }
 },
 "nbformat": 4,
 "nbformat_minor": 5
}
