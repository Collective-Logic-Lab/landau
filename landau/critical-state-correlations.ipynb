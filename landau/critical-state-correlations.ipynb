{
 "cells": [
  {
   "cell_type": "code",
   "execution_count": 1,
   "metadata": {
    "collapsed": true
   },
   "outputs": [],
   "source": [
    "# critical-state-correlations.ipynb\n",
    "#\n",
    "# Bryan Daniels\n",
    "#\n",
    "# 11.21.2017\n",
    "#\n",
    "# Calculate critical transition index as defined in \n",
    "# \"Cell fate decision as high-dimensional critical transition\"\n",
    "# Mojtahedi et al., PLOS Biology 14 (12): e2000640 (2016) \n",
    "#"
   ]
  },
  {
   "cell_type": "code",
   "execution_count": 1,
   "metadata": {},
   "outputs": [],
   "source": [
    "from toolbox import setDefaultParams\n",
    "setDefaultParams()"
   ]
  },
  {
   "cell_type": "code",
   "execution_count": 2,
   "metadata": {},
   "outputs": [],
   "source": [
    "import pandas\n",
    "import scipy, pylab\n",
    "import numpy as np\n",
    "import matplotlib.pyplot as plt\n",
    "from toolbox import aboveDiagFlat"
   ]
  },
  {
   "cell_type": "code",
   "execution_count": 3,
   "metadata": {},
   "outputs": [
    {
     "name": "stderr",
     "output_type": "stream",
     "text": [
      "/Users/bdaniel6/opt/anaconda3/lib/python3.9/site-packages/openpyxl/worksheet/_read_only.py:79: UserWarning: Unknown extension is not supported and will be removed\n",
      "  for idx, row in parser.parse():\n"
     ]
    }
   ],
   "source": [
    "xlFile = pandas.ExcelFile(\"../../Data/170614/nanostring data with VG protein data.xlsx\")\n",
    "rawData = xlFile.parse('Sheet1')"
   ]
  },
  {
   "cell_type": "code",
   "execution_count": 4,
   "metadata": {},
   "outputs": [],
   "source": [
    "# pull out just the age and expression data, indexed by age\n",
    "data = rawData.set_index(['Age']).loc[:,'4ebp1':'VG protein ']"
   ]
  },
  {
   "cell_type": "code",
   "execution_count": 5,
   "metadata": {},
   "outputs": [
    {
     "data": {
      "text/plain": [
       "Int64Index([1, 3, 4, 6, 10, 15], dtype='int64', name='Age')"
      ]
     },
     "execution_count": 5,
     "metadata": {},
     "output_type": "execute_result"
    }
   ],
   "source": [
    "data.index.unique()"
   ]
  },
  {
   "cell_type": "markdown",
   "metadata": {},
   "source": [
    "# deal with outlier on day 4"
   ]
  },
  {
   "cell_type": "code",
   "execution_count": 6,
   "metadata": {},
   "outputs": [],
   "source": [
    "# 2022/2/25 just ignore day 4 completely...\n",
    "removeDay4 = True\n",
    "if removeDay4:\n",
    "    data.drop(4,inplace=True)"
   ]
  },
  {
   "cell_type": "code",
   "execution_count": 7,
   "metadata": {},
   "outputs": [],
   "source": [
    "# one bee on day 4 has much larger expression for most genes.\n",
    "# we can identify it as the one that has 4ebp1 expression > 40000\n",
    "# (see correlations.ipynb for more details)\n",
    "outlier = data['4ebp1'] > 40000\n",
    "notOutlier = data['4ebp1'] < 40000"
   ]
  },
  {
   "cell_type": "markdown",
   "metadata": {},
   "source": [
    "# calculate correlations"
   ]
  },
  {
   "cell_type": "code",
   "execution_count": 8,
   "metadata": {},
   "outputs": [],
   "source": [
    "import numpy as np\n",
    "import scipy.stats\n",
    "import pandas as pd"
   ]
  },
  {
   "cell_type": "code",
   "execution_count": 9,
   "metadata": {},
   "outputs": [
    {
     "data": {
      "text/plain": [
       "(80, 91)"
      ]
     },
     "execution_count": 9,
     "metadata": {},
     "output_type": "execute_result"
    }
   ],
   "source": [
    "data.shape"
   ]
  },
  {
   "cell_type": "code",
   "execution_count": 10,
   "metadata": {},
   "outputs": [],
   "source": [
    "def corrs(data,day,log=True,transpose=False,includeOutlier=False,includeVGprotein=False,\n",
    "         method='pearson'):\n",
    "\n",
    "    if includeOutlier:\n",
    "        d = data.loc[day].copy()\n",
    "    else:\n",
    "        d = data[notOutlier].loc[day].copy()\n",
    "\n",
    "    if log:\n",
    "        d = np.log(d).copy()\n",
    "        \n",
    "    if not includeVGprotein:\n",
    "        d = d.drop('VG protein ',axis=1,errors='ignore').copy()\n",
    "        \n",
    "    if transpose:\n",
    "        c = np.asarray(d.T.corr(method=method))\n",
    "    else:\n",
    "        c = np.asarray(d.corr(method=method))\n",
    "        \n",
    "    return aboveDiagFlat(c)"
   ]
  },
  {
   "cell_type": "code",
   "execution_count": 11,
   "metadata": {},
   "outputs": [],
   "source": [
    "def correlationPlot(data,log=True,includeOutlier=False,includeVGprotein=False,\n",
    "                    method='pearson'):\n",
    "    days = data.index.unique()\n",
    "    c = lambda day,transpose: corrs(data,day,log=log,transpose=transpose,\n",
    "                                    includeOutlier=includeOutlier,\n",
    "                                    includeVGprotein=includeVGprotein,\n",
    "                                    method=method)\n",
    "\n",
    "    pylab.figure(figsize=(12,3))\n",
    "\n",
    "    pylab.subplot(1,3,1)\n",
    "    pylab.errorbar(days,[np.mean(np.abs(c(day,False))) for day in days],\n",
    "                   yerr=[np.std(np.abs(c(day,False)))/np.sqrt(len(c(day,False))) for day in days],\n",
    "                   marker='o',ls=':')\n",
    "    pylab.xlabel('day')\n",
    "    pylab.ylabel('mean gene-gene\\ncorrelation')\n",
    "    pylab.axis(ymin=0,ymax=1)\n",
    "\n",
    "    pylab.subplot(1,3,2)\n",
    "    pylab.errorbar(days,[np.mean(c(day,True)) for day in days],\n",
    "                   yerr=[np.std(c(day,True))/np.sqrt(len(c(day,True))) for day in days],\n",
    "                   marker='o',ls=':',color='C2')\n",
    "    pylab.xlabel('day')\n",
    "    pylab.ylabel('mean bee-bee\\ncorrelation')\n",
    "    pylab.axis(ymin=0,ymax=1)\n",
    "\n",
    "    pylab.subplot(1,3,3)\n",
    "    pylab.plot(days,[np.mean(np.abs(c(day,False)))/np.mean(c(day,True)) for day in days],\n",
    "               'o:',color='C3')\n",
    "    pylab.xlabel('day')\n",
    "    pylab.ylabel('transition index')\n",
    "    pylab.axis(ymin=0)\n",
    "\n",
    "    pylab.subplots_adjust(wspace=0.5)"
   ]
  },
  {
   "cell_type": "code",
   "execution_count": 12,
   "metadata": {},
   "outputs": [],
   "source": [
    "def transitionIndexPlot(data,log=True,includeOutlier=False,includeVGprotein=False,\n",
    "                        method='pearson',color='C3',marker='o',label=''):\n",
    "    days = data.index.unique()\n",
    "    c = lambda day,transpose: corrs(data,day,log=log,transpose=transpose,\n",
    "                                        includeOutlier=includeOutlier,\n",
    "                                        includeVGprotein=includeVGprotein,\n",
    "                                        method=method)\n",
    "    plt.plot(days,[np.mean(np.abs(c(day,False)))/np.mean(c(day,True)) for day in days],\n",
    "                   ls=':',color=color,marker=marker,label=label,markersize=10,mec='k',mew=0.1)\n",
    "    pylab.xlabel('Day')\n",
    "    pylab.ylabel('Transition index')\n",
    "    pylab.axis(ymin=0)"
   ]
  },
  {
   "cell_type": "markdown",
   "metadata": {},
   "source": [
    "# 2022/2/28 plot comparing transition index plot as we gradually focus on genes most that we most associate with the transition"
   ]
  },
  {
   "cell_type": "code",
   "execution_count": 13,
   "metadata": {},
   "outputs": [],
   "source": [
    "fracVarAlongPCday10 = pd.read_csv('220224_fraction_variance_along_PC_day_10.csv',names=['gene','fracVar'],skiprows=1)\n",
    "fracVarAlongPCday15 = pd.read_csv('220224_fraction_variance_along_PC_day_15.csv',names=['gene','fracVar'],skiprows=1)"
   ]
  },
  {
   "cell_type": "code",
   "execution_count": 14,
   "metadata": {},
   "outputs": [],
   "source": [
    "# we'll include genes that appear above a given threshold on both days 10 and 15\n",
    "# (calculate for many thresholds, then choose threshold based on number of genes we want)\n",
    "threshVals = np.linspace(0,1,1000)\n",
    "genesDay10and15list,numGenesList = [],[]\n",
    "for thresh in threshVals:\n",
    "    genesDay10 = set(fracVarAlongPCday10[fracVarAlongPCday10['fracVar']>thresh]['gene'])\n",
    "    genesDay15 = set(fracVarAlongPCday15[fracVarAlongPCday15['fracVar']>thresh]['gene'])\n",
    "    genesDay10and15 = genesDay10.intersection(genesDay15)\n",
    "    genesDay10and15list.append( genesDay10and15 )\n",
    "    numGenesList.append( len(genesDay10and15) )"
   ]
  },
  {
   "cell_type": "code",
   "execution_count": 173,
   "metadata": {},
   "outputs": [
    {
     "name": "stdout",
     "output_type": "stream",
     "text": [
      "Top 10 genes: {'vg', 'Hex70a', 'PRM1', 'P110', 'Def2', 'LOC409966', 'Malvolio', 'ilp1', 'hex 110', 'Hymenoptaecin'}\n",
      "Top 20 genes: {'LOC409966', 'TYR1', 'VG protein ', 'SmG', 'AGO2', 'P110', 'hex 110', 'TOR', 'Hex70a', 'PRM1', 'transferrin 1', 'vg', 'Def2', 'Malvolio', 'ilp1', 'Kr-h1', 'JHE', 'erk7', 'MRJP-3', 'Hymenoptaecin'}\n",
      "Top 50 genes: {'SVP NR2F1', 'LOC726648', 'Dop1', 'egfr', 'LOC409966', 'InR1', 'TYR1', 'Br-c', 'SmG', 'VG protein ', 'ILP-2', 'Ethr', 'Mob3', 'Dop3', 'AGO2', 'Tbh', 'E74', 'erk7', 'P110', 'Rheb', 'MRJP-5', 'hex 110', 'Def', 'Chd64', 'TOR', 'dnmt3', 'PKG (For)', 'Hex70a', 'PRM1', 'OA1 or OAR', 'InR2', 'transferrin 1', 'Def2', 'vg', 'Malvolio', 'ilp1', 'LOC726899 GB52437', 'dnmt1a', 'USP (RXR)', 'AKT1', 'Kr-h1', 'LOC406144', 'MRJP-3', 'JHE', 'MRJP-9', 'vgR', 'JHEH', 'Mkp3', 'if', 'Hymenoptaecin'}\n"
     ]
    },
    {
     "data": {
      "image/png": "[encoded data removed]",
      "text/plain": [
       "<Figure size 432x216 with 1 Axes>"
      ]
     },
     "metadata": {
      "needs_background": "light"
     },
     "output_type": "display_data"
    }
   ],
   "source": [
    "plt.figure(figsize=(6,3))\n",
    "colors,shapes = ['#C53A32','#DA736D','#E4A5A1','#FFC8C4'],['o','^','v','s']\n",
    "for nGenes,color,shape in zip([10,20,50,91],colors,shapes):\n",
    "    selectedGenes = genesDay10and15list[ numGenesList.index(nGenes) ]\n",
    "    if nGenes < 91: \n",
    "        print(\"Top {} genes: {}\".format(nGenes,selectedGenes))\n",
    "        label = '{} selected genes'.format(nGenes)\n",
    "    else:\n",
    "        label = 'All 91 genes'\n",
    "    transitionIndexPlot(data[selectedGenes],includeVGprotein=True,color=color,marker=shape,\n",
    "                        label=label)\n",
    "plt.xlabel('Age (days)')\n",
    "plt.axis(xmin=0,ymin=0.2,ymax=1)\n",
    "plt.xticks(data.index.unique())\n",
    "leg = plt.legend(loc=(1.05,0.25))\n",
    "plt.subplots_adjust(right=0.6,bottom=0.2,top=0.95)\n",
    "defaultFigure.makePretty(leg=leg)\n",
    "plt.savefig('220307_huang_transition_index_vs_time.pdf')"
   ]
  },
  {
   "cell_type": "code",
   "execution_count": null,
   "metadata": {},
   "outputs": [],
   "source": []
  }
 ],
 "metadata": {
  "anaconda-cloud": {},
  "kernelspec": {
   "display_name": "Python 3 (ipykernel)",
   "language": "python",
   "name": "python3"
  },
  "language_info": {
   "codemirror_mode": {
    "name": "ipython",
    "version": 3
   },
   "file_extension": ".py",
   "mimetype": "text/x-python",
   "name": "python",
   "nbconvert_exporter": "python",
   "pygments_lexer": "ipython3",
   "version": "3.9.16"
  }
 },
 "nbformat": 4,
 "nbformat_minor": 1
}
